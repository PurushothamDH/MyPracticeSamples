{
 "cells": [
  {
   "cell_type": "code",
   "execution_count": 0,
   "metadata": {
    "application/vnd.databricks.v1+cell": {
     "cellMetadata": {
      "byteLimit": 2048000,
      "rowLimit": 10000
     },
     "inputWidgets": {},
     "nuid": "9a2b9f13-fdd7-4f17-ab51-465d976c1312",
     "showTitle": false,
     "title": ""
    }
   },
   "outputs": [],
   "source": [
    "from pyspark.sql import *\n",
    "from pyspark.sql import SparkSession\n",
    "\n",
    "#FileStore/tables/Practices/IIT/IIT-1.csv"
   ]
  },
  {
   "cell_type": "code",
   "execution_count": 0,
   "metadata": {
    "application/vnd.databricks.v1+cell": {
     "cellMetadata": {
      "byteLimit": 2048000,
      "rowLimit": 10000
     },
     "inputWidgets": {},
     "nuid": "f50204a3-aa42-4ad1-83b0-91a456080e6f",
     "showTitle": false,
     "title": ""
    }
   },
   "outputs": [
    {
     "output_type": "display_data",
     "data": {
      "text/html": [
       "<style scoped>\n",
       "  .table-result-container {\n",
       "    max-height: 300px;\n",
       "    overflow: auto;\n",
       "  }\n",
       "  table, th, td {\n",
       "    border: 1px solid black;\n",
       "    border-collapse: collapse;\n",
       "  }\n",
       "  th, td {\n",
       "    padding: 5px;\n",
       "  }\n",
       "  th {\n",
       "    text-align: left;\n",
       "  }\n",
       "</style><div class='table-result-container'><table class='table-result'><thead style='background-color: white'><tr><th>IIT Name</th><th>2023 NIRF</th><th>2022 NIRF</th><th>2021 NIRF</th><th>2020 NIRF</th><th>2019 NIRF</th><th>2023 QS World</th><th>2022 QS World</th><th>2021 QS World</th><th>2020 QS World</th><th>2022 QS Asia</th><th>2020 QS India</th><th>Times World</th><th>Times Asia</th></tr></thead><tbody><tr><td>IIT Madras</td><td>1</td><td>1</td><td>1</td><td>1</td><td>250</td><td>255</td><td>275</td><td>271</td><td>54</td><td>4</td><td>601</td><td>125</td><td>0</td></tr><tr><td>IIT Delhi</td><td>2</td><td>4</td><td>3</td><td>3</td><td>174</td><td>185</td><td>193</td><td>182</td><td>45</td><td>3</td><td>401</td><td>67</td><td>0</td></tr><tr><td>IIT Bombay</td><td>3</td><td>3</td><td>4</td><td>4</td><td>172</td><td>177</td><td>172</td><td>152</td><td>42</td><td>1</td><td>401</td><td>69</td><td>0</td></tr></tbody></table></div>"
      ]
     },
     "metadata": {
      "application/vnd.databricks.v1+output": {
       "addedWidgets": {},
       "aggData": [],
       "aggError": "",
       "aggOverflow": false,
       "aggSchema": [],
       "aggSeriesLimitReached": false,
       "aggType": "",
       "arguments": {},
       "columnCustomDisplayInfos": {},
       "data": [
        [
         "IIT Madras",
         "1",
         "1",
         "1",
         "1",
         "250",
         "255",
         "275",
         "271",
         "54",
         "4",
         "601",
         "125",
         "0"
        ],
        [
         "IIT Delhi",
         "2",
         "4",
         "3",
         "3",
         "174",
         "185",
         "193",
         "182",
         "45",
         "3",
         "401",
         "67",
         "0"
        ],
        [
         "IIT Bombay",
         "3",
         "3",
         "4",
         "4",
         "172",
         "177",
         "172",
         "152",
         "42",
         "1",
         "401",
         "69",
         "0"
        ]
       ],
       "datasetInfos": [],
       "dbfsResultPath": null,
       "isJsonSchema": true,
       "metadata": {},
       "overflow": false,
       "plotOptions": {
        "customPlotOptions": {},
        "displayType": "table",
        "pivotAggregation": null,
        "pivotColumns": null,
        "xColumns": null,
        "yColumns": null
       },
       "removedWidgets": [],
       "schema": [
        {
         "metadata": "{}",
         "name": "IIT Name",
         "type": "\"string\""
        },
        {
         "metadata": "{}",
         "name": "2023 NIRF",
         "type": "\"string\""
        },
        {
         "metadata": "{}",
         "name": "2022 NIRF",
         "type": "\"string\""
        },
        {
         "metadata": "{}",
         "name": "2021 NIRF",
         "type": "\"string\""
        },
        {
         "metadata": "{}",
         "name": "2020 NIRF",
         "type": "\"string\""
        },
        {
         "metadata": "{}",
         "name": "2019 NIRF",
         "type": "\"string\""
        },
        {
         "metadata": "{}",
         "name": "2023 QS World",
         "type": "\"string\""
        },
        {
         "metadata": "{}",
         "name": "2022 QS World",
         "type": "\"string\""
        },
        {
         "metadata": "{}",
         "name": "2021 QS World",
         "type": "\"string\""
        },
        {
         "metadata": "{}",
         "name": "2020 QS World",
         "type": "\"string\""
        },
        {
         "metadata": "{}",
         "name": "2022 QS Asia",
         "type": "\"string\""
        },
        {
         "metadata": "{}",
         "name": "2020 QS India",
         "type": "\"string\""
        },
        {
         "metadata": "{}",
         "name": "Times World",
         "type": "\"string\""
        },
        {
         "metadata": "{}",
         "name": "Times Asia",
         "type": "\"string\""
        }
       ],
       "type": "table"
      }
     },
     "output_type": "display_data"
    }
   ],
   "source": [
    "df_maindata = spark.read.csv('dbfs:/FileStore/tables/Practices/IIT/IIT-1.csv',header=True)\n",
    "df = df_maindata.distinct()\n",
    "display(df.limit(3))"
   ]
  },
  {
   "cell_type": "code",
   "execution_count": 0,
   "metadata": {
    "application/vnd.databricks.v1+cell": {
     "cellMetadata": {
      "byteLimit": 2048000,
      "rowLimit": 10000
     },
     "inputWidgets": {},
     "nuid": "8185e34b-4d29-4723-ac06-b7e37f8e0db7",
     "showTitle": false,
     "title": ""
    }
   },
   "outputs": [
    {
     "output_type": "display_data",
     "data": {
      "text/html": [
       "<style scoped>\n",
       "  .table-result-container {\n",
       "    max-height: 300px;\n",
       "    overflow: auto;\n",
       "  }\n",
       "  table, th, td {\n",
       "    border: 1px solid black;\n",
       "    border-collapse: collapse;\n",
       "  }\n",
       "  th, td {\n",
       "    padding: 5px;\n",
       "  }\n",
       "  th {\n",
       "    text-align: left;\n",
       "  }\n",
       "</style><div class='table-result-container'><table class='table-result'><thead style='background-color: white'><tr><th>IIT Name</th><th>2023 NIRF</th><th>2022 NIRF</th><th>2021 NIRF</th><th>2020 NIRF</th><th>2019 NIRF</th><th>2023 QS World</th><th>2022 QS World</th><th>2021 QS World</th><th>2020 QS World</th><th>2022 QS Asia</th><th>2020 QS India</th><th>Times World</th><th>Times Asia</th></tr></thead><tbody><tr><td>IIT Madras</td><td>1</td><td>1</td><td>1</td><td>1</td><td>250</td><td>255</td><td>275</td><td>271</td><td>54</td><td>4</td><td>601</td><td>125</td><td>0</td></tr><tr><td>IIT Delhi</td><td>2</td><td>4</td><td>3</td><td>3</td><td>174</td><td>185</td><td>193</td><td>182</td><td>45</td><td>3</td><td>401</td><td>67</td><td>0</td></tr><tr><td>IIT Bombay</td><td>3</td><td>3</td><td>4</td><td>4</td><td>172</td><td>177</td><td>172</td><td>152</td><td>42</td><td>1</td><td>401</td><td>69</td><td>0</td></tr></tbody></table></div>"
      ]
     },
     "metadata": {
      "application/vnd.databricks.v1+output": {
       "addedWidgets": {},
       "aggData": [],
       "aggError": "",
       "aggOverflow": false,
       "aggSchema": [],
       "aggSeriesLimitReached": false,
       "aggType": "",
       "arguments": {},
       "columnCustomDisplayInfos": {},
       "data": [
        [
         "IIT Madras",
         "1",
         "1",
         "1",
         "1",
         "250",
         "255",
         "275",
         "271",
         "54",
         "4",
         "601",
         "125",
         "0"
        ],
        [
         "IIT Delhi",
         "2",
         "4",
         "3",
         "3",
         "174",
         "185",
         "193",
         "182",
         "45",
         "3",
         "401",
         "67",
         "0"
        ],
        [
         "IIT Bombay",
         "3",
         "3",
         "4",
         "4",
         "172",
         "177",
         "172",
         "152",
         "42",
         "1",
         "401",
         "69",
         "0"
        ]
       ],
       "datasetInfos": [],
       "dbfsResultPath": null,
       "isJsonSchema": true,
       "metadata": {},
       "overflow": false,
       "plotOptions": {
        "customPlotOptions": {},
        "displayType": "table",
        "pivotAggregation": null,
        "pivotColumns": null,
        "xColumns": null,
        "yColumns": null
       },
       "removedWidgets": [],
       "schema": [
        {
         "metadata": "{}",
         "name": "IIT Name",
         "type": "\"string\""
        },
        {
         "metadata": "{}",
         "name": "2023 NIRF",
         "type": "\"string\""
        },
        {
         "metadata": "{}",
         "name": "2022 NIRF",
         "type": "\"string\""
        },
        {
         "metadata": "{}",
         "name": "2021 NIRF",
         "type": "\"string\""
        },
        {
         "metadata": "{}",
         "name": "2020 NIRF",
         "type": "\"string\""
        },
        {
         "metadata": "{}",
         "name": "2019 NIRF",
         "type": "\"string\""
        },
        {
         "metadata": "{}",
         "name": "2023 QS World",
         "type": "\"string\""
        },
        {
         "metadata": "{}",
         "name": "2022 QS World",
         "type": "\"string\""
        },
        {
         "metadata": "{}",
         "name": "2021 QS World",
         "type": "\"string\""
        },
        {
         "metadata": "{}",
         "name": "2020 QS World",
         "type": "\"string\""
        },
        {
         "metadata": "{}",
         "name": "2022 QS Asia",
         "type": "\"string\""
        },
        {
         "metadata": "{}",
         "name": "2020 QS India",
         "type": "\"string\""
        },
        {
         "metadata": "{}",
         "name": "Times World",
         "type": "\"string\""
        },
        {
         "metadata": "{}",
         "name": "Times Asia",
         "type": "\"string\""
        }
       ],
       "type": "table"
      }
     },
     "output_type": "display_data"
    }
   ],
   "source": [
    "display(df.limit(3))"
   ]
  },
  {
   "cell_type": "code",
   "execution_count": 0,
   "metadata": {
    "application/vnd.databricks.v1+cell": {
     "cellMetadata": {
      "byteLimit": 2048000,
      "rowLimit": 10000
     },
     "inputWidgets": {},
     "nuid": "f255136b-830f-4c19-b4e7-22758192254c",
     "showTitle": false,
     "title": ""
    }
   },
   "outputs": [],
   "source": [
    "df= df.withColumn(\"IIT Name\",df[\"IIT Name\"].cast('String'))\n",
    "df= df.withColumn(\"2023 NIRF\",df[\"2023 NIRF\"].cast('int'))\n",
    "df= df.withColumn(\"2022 NIRF\",df[\"2022 NIRF\"].cast('int'))\n",
    "df= df.withColumn(\"2021 NIRF\",df[\"2021 NIRF\"].cast('int'))\n",
    "df= df.withColumn(\"2020 NIRF\",df[\"2020 NIRF\"].cast('int'))\n",
    "df= df.withColumn(\"2019 NIRF\",df[\"2019 NIRF\"].cast('int'))\n",
    "df= df.withColumn(\"2023 QS World\",df[\"2023 QS World\"].cast('int'))\n",
    "df= df.withColumn(\"2022 QS World\",df[\"2022 QS World\"].cast('int'))\n",
    "df= df.withColumn(\"2021 QS World\",df[\"2021 QS World\"].cast('int'))\n",
    "df= df.withColumn(\"2020 QS World\",df[\"2020 QS World\"].cast('int'))\n",
    "df= df.withColumn(\"2022 QS Asia\",df[\"2022 QS Asia\"].cast('int'))\n",
    "df= df.withColumn(\"2020 QS India\",df[\"2020 QS India\"].cast('int'))\n",
    "df= df.withColumn(\"Times World\",df[\"Times World\"].cast('int'))\n",
    "df= df.withColumn(\"Times Asia\",df[\"Times Asia\"].cast('int'))\n"
   ]
  },
  {
   "cell_type": "code",
   "execution_count": 0,
   "metadata": {
    "application/vnd.databricks.v1+cell": {
     "cellMetadata": {
      "byteLimit": 2048000,
      "rowLimit": 10000
     },
     "inputWidgets": {},
     "nuid": "5486fe45-b63d-434f-ac53-bc0cbf8d219b",
     "showTitle": false,
     "title": ""
    }
   },
   "outputs": [
    {
     "output_type": "stream",
     "name": "stdout",
     "output_type": "stream",
     "text": [
      "root\n |-- IIT Name: string (nullable = true)\n |-- 2023 NIRF: integer (nullable = true)\n |-- 2022 NIRF: integer (nullable = true)\n |-- 2021 NIRF: integer (nullable = true)\n |-- 2020 NIRF: integer (nullable = true)\n |-- 2019 NIRF: integer (nullable = true)\n |-- 2023 QS World: integer (nullable = true)\n |-- 2022 QS World: integer (nullable = true)\n |-- 2021 QS World: integer (nullable = true)\n |-- 2020 QS World: integer (nullable = true)\n |-- 2022 QS Asia: integer (nullable = true)\n |-- 2020 QS India: integer (nullable = true)\n |-- Times World: integer (nullable = true)\n |-- Times Asia: integer (nullable = true)\n\n"
     ]
    }
   ],
   "source": [
    "df.printSchema()"
   ]
  },
  {
   "cell_type": "code",
   "execution_count": 0,
   "metadata": {
    "application/vnd.databricks.v1+cell": {
     "cellMetadata": {
      "byteLimit": 2048000,
      "rowLimit": 10000
     },
     "inputWidgets": {},
     "nuid": "dcb764b6-1f8b-4ac9-ac78-d8b55044d50d",
     "showTitle": false,
     "title": ""
    }
   },
   "outputs": [
    {
     "output_type": "display_data",
     "data": {
      "text/html": [
       "<style scoped>\n",
       "  .table-result-container {\n",
       "    max-height: 300px;\n",
       "    overflow: auto;\n",
       "  }\n",
       "  table, th, td {\n",
       "    border: 1px solid black;\n",
       "    border-collapse: collapse;\n",
       "  }\n",
       "  th, td {\n",
       "    padding: 5px;\n",
       "  }\n",
       "  th {\n",
       "    text-align: left;\n",
       "  }\n",
       "</style><div class='table-result-container'><table class='table-result'><thead style='background-color: white'><tr><th>IIT Name</th><th>2023 NIRF</th><th>2022 NIRF</th><th>2021 NIRF</th><th>2020 NIRF</th><th>2019 NIRF</th><th>2023 QS World</th><th>2022 QS World</th><th>2021 QS World</th><th>2020 QS World</th><th>2022 QS Asia</th><th>2020 QS India</th><th>Times World</th><th>Times Asia</th></tr></thead><tbody><tr><td>IIT Hyderabad</td><td>8</td><td>16</td><td>17</td><td>22</td><td>581</td><td>0</td><td>0</td><td>0</td><td>224</td><td>15</td><td>601</td><td>144</td><td>0</td></tr><tr><td>IIT Tirupati</td><td>59</td><td>0</td><td>0</td><td>0</td><td>0</td><td>0</td><td>0</td><td>0</td><td>0</td><td>0</td><td>0</td><td>0</td><td>0</td></tr><tr><td>IIT Kanpur</td><td>4</td><td>5</td><td>6</td><td>6</td><td>264</td><td>277</td><td>350</td><td>291</td><td>64</td><td>6</td><td>601</td><td>125</td><td>0</td></tr><tr><td>IIT Gandhinagar</td><td>18</td><td>33</td><td>35</td><td>51</td><td>0</td><td>0</td><td>0</td><td>0</td><td>301</td><td>0</td><td>601</td><td>0</td><td>0</td></tr><tr><td>IIT Madras</td><td>1</td><td>1</td><td>1</td><td>1</td><td>250</td><td>255</td><td>275</td><td>271</td><td>54</td><td>4</td><td>601</td><td>125</td><td>0</td></tr><tr><td>IIT Ropar</td><td>22</td><td>31</td><td>39</td><td>29</td><td>0</td><td>0</td><td>0</td><td>0</td><td>261</td><td>25</td><td>351</td><td>55</td><td>0</td></tr><tr><td>IIT Delhi</td><td>2</td><td>4</td><td>3</td><td>3</td><td>174</td><td>185</td><td>193</td><td>182</td><td>45</td><td>3</td><td>401</td><td>67</td><td>0</td></tr><tr><td>IIT Guwahati</td><td>7</td><td>8</td><td>7</td><td>9</td><td>384</td><td>395</td><td>470</td><td>491</td><td>119</td><td>10</td><td>601</td><td>160</td><td>0</td></tr><tr><td>IIT (BHU) Varanasi</td><td>15</td><td>28</td><td>26</td><td>28</td><td>0</td><td>0</td><td>0</td><td>0</td><td>281</td><td>0</td><td>0</td><td>0</td><td>0</td></tr><tr><td>IIT Goa</td><td>0</td><td>0</td><td>0</td><td>0</td><td>0</td><td>0</td><td>0</td><td>0</td><td>0</td><td>0</td><td>0</td><td>0</td><td>0</td></tr><tr><td>IIT Jodhpur</td><td>30</td><td>0</td><td>0</td><td>0</td><td>0</td><td>0</td><td>0</td><td>0</td><td>0</td><td>0</td><td>0</td><td>0</td><td>0</td></tr><tr><td>IIT Bhubaneswar</td><td>47</td><td>58</td><td>56</td><td>46</td><td>801</td><td>0</td><td>0</td><td>0</td><td>251</td><td>20</td><td>1001</td><td>251</td><td>0</td></tr><tr><td>IIT Jammu</td><td>67</td><td>0</td><td>0</td><td>0</td><td>0</td><td>0</td><td>0</td><td>0</td><td>0</td><td>0</td><td>0</td><td>0</td><td>0</td></tr><tr><td>IIT Palakkad</td><td>69</td><td>0</td><td>0</td><td>0</td><td>0</td><td>0</td><td>0</td><td>0</td><td>0</td><td>0</td><td>0</td><td>0</td><td>0</td></tr><tr><td>IIT Roorkee</td><td>5</td><td>7</td><td>9</td><td>8</td><td>369</td><td>400</td><td>383</td><td>383</td><td>109</td><td>9</td><td>501</td><td>83</td><td>0</td></tr><tr><td>IIT (ISM) Dhanbad</td><td>17</td><td>26</td><td>22</td><td>25</td><td>0</td><td>0</td><td>0</td><td>0</td><td>251</td><td>46</td><td>1001</td><td>201</td><td>0</td></tr><tr><td>IIT Mandi</td><td>33</td><td>82</td><td>67</td><td>44</td><td>0</td><td>0</td><td>0</td><td>0</td><td>0</td><td>0</td><td>1001</td><td>0</td><td>0</td></tr><tr><td>IIT Patna</td><td>41</td><td>51</td><td>54</td><td>58</td><td>0</td><td>0</td><td>0</td><td>0</td><td>301</td><td>36</td><td>801</td><td>301</td><td>0</td></tr><tr><td>IIT Indore</td><td>14</td><td>30</td><td>23</td><td>0</td><td>396</td><td>0</td><td>0</td><td>0</td><td>178</td><td>13</td><td>401</td><td>78</td><td>0</td></tr><tr><td>IIT Bhilai</td><td>81</td><td>0</td><td>0</td><td>0</td><td>0</td><td>0</td><td>0</td><td>0</td><td>0</td><td>0</td><td>0</td><td>0</td><td>0</td></tr><tr><td>IIT Bombay</td><td>3</td><td>3</td><td>4</td><td>4</td><td>172</td><td>177</td><td>172</td><td>152</td><td>42</td><td>1</td><td>401</td><td>69</td><td>0</td></tr><tr><td>IIT Kharagpur</td><td>6</td><td>6</td><td>5</td><td>5</td><td>270</td><td>280</td><td>314</td><td>281</td><td>60</td><td>5</td><td>401</td><td>59</td><td>0</td></tr><tr><td>IIT Dharwad</td><td>93</td><td>0</td><td>0</td><td>0</td><td>0</td><td>0</td><td>0</td><td>0</td><td>0</td><td>0</td><td>0</td><td>0</td><td>0</td></tr></tbody></table></div>"
      ]
     },
     "metadata": {
      "application/vnd.databricks.v1+output": {
       "addedWidgets": {},
       "aggData": [],
       "aggError": "",
       "aggOverflow": false,
       "aggSchema": [],
       "aggSeriesLimitReached": false,
       "aggType": "",
       "arguments": {},
       "columnCustomDisplayInfos": {},
       "data": [
        [
         "IIT Hyderabad",
         8,
         16,
         17,
         22,
         581,
         0,
         0,
         0,
         224,
         15,
         601,
         144,
         0
        ],
        [
         "IIT Tirupati",
         59,
         0,
         0,
         0,
         0,
         0,
         0,
         0,
         0,
         0,
         0,
         0,
         0
        ],
        [
         "IIT Kanpur",
         4,
         5,
         6,
         6,
         264,
         277,
         350,
         291,
         64,
         6,
         601,
         125,
         0
        ],
        [
         "IIT Gandhinagar",
         18,
         33,
         35,
         51,
         0,
         0,
         0,
         0,
         301,
         0,
         601,
         0,
         0
        ],
        [
         "IIT Madras",
         1,
         1,
         1,
         1,
         250,
         255,
         275,
         271,
         54,
         4,
         601,
         125,
         0
        ],
        [
         "IIT Ropar",
         22,
         31,
         39,
         29,
         0,
         0,
         0,
         0,
         261,
         25,
         351,
         55,
         0
        ],
        [
         "IIT Delhi",
         2,
         4,
         3,
         3,
         174,
         185,
         193,
         182,
         45,
         3,
         401,
         67,
         0
        ],
        [
         "IIT Guwahati",
         7,
         8,
         7,
         9,
         384,
         395,
         470,
         491,
         119,
         10,
         601,
         160,
         0
        ],
        [
         "IIT (BHU) Varanasi",
         15,
         28,
         26,
         28,
         0,
         0,
         0,
         0,
         281,
         0,
         0,
         0,
         0
        ],
        [
         "IIT Goa",
         0,
         0,
         0,
         0,
         0,
         0,
         0,
         0,
         0,
         0,
         0,
         0,
         0
        ],
        [
         "IIT Jodhpur",
         30,
         0,
         0,
         0,
         0,
         0,
         0,
         0,
         0,
         0,
         0,
         0,
         0
        ],
        [
         "IIT Bhubaneswar",
         47,
         58,
         56,
         46,
         801,
         0,
         0,
         0,
         251,
         20,
         1001,
         251,
         0
        ],
        [
         "IIT Jammu",
         67,
         0,
         0,
         0,
         0,
         0,
         0,
         0,
         0,
         0,
         0,
         0,
         0
        ],
        [
         "IIT Palakkad",
         69,
         0,
         0,
         0,
         0,
         0,
         0,
         0,
         0,
         0,
         0,
         0,
         0
        ],
        [
         "IIT Roorkee",
         5,
         7,
         9,
         8,
         369,
         400,
         383,
         383,
         109,
         9,
         501,
         83,
         0
        ],
        [
         "IIT (ISM) Dhanbad",
         17,
         26,
         22,
         25,
         0,
         0,
         0,
         0,
         251,
         46,
         1001,
         201,
         0
        ],
        [
         "IIT Mandi",
         33,
         82,
         67,
         44,
         0,
         0,
         0,
         0,
         0,
         0,
         1001,
         0,
         0
        ],
        [
         "IIT Patna",
         41,
         51,
         54,
         58,
         0,
         0,
         0,
         0,
         301,
         36,
         801,
         301,
         0
        ],
        [
         "IIT Indore",
         14,
         30,
         23,
         0,
         396,
         0,
         0,
         0,
         178,
         13,
         401,
         78,
         0
        ],
        [
         "IIT Bhilai",
         81,
         0,
         0,
         0,
         0,
         0,
         0,
         0,
         0,
         0,
         0,
         0,
         0
        ],
        [
         "IIT Bombay",
         3,
         3,
         4,
         4,
         172,
         177,
         172,
         152,
         42,
         1,
         401,
         69,
         0
        ],
        [
         "IIT Kharagpur",
         6,
         6,
         5,
         5,
         270,
         280,
         314,
         281,
         60,
         5,
         401,
         59,
         0
        ],
        [
         "IIT Dharwad",
         93,
         0,
         0,
         0,
         0,
         0,
         0,
         0,
         0,
         0,
         0,
         0,
         0
        ]
       ],
       "datasetInfos": [],
       "dbfsResultPath": null,
       "isJsonSchema": true,
       "metadata": {},
       "overflow": false,
       "plotOptions": {
        "customPlotOptions": {},
        "displayType": "table",
        "pivotAggregation": null,
        "pivotColumns": null,
        "xColumns": null,
        "yColumns": null
       },
       "removedWidgets": [],
       "schema": [
        {
         "metadata": "{}",
         "name": "IIT Name",
         "type": "\"string\""
        },
        {
         "metadata": "{}",
         "name": "2023 NIRF",
         "type": "\"integer\""
        },
        {
         "metadata": "{}",
         "name": "2022 NIRF",
         "type": "\"integer\""
        },
        {
         "metadata": "{}",
         "name": "2021 NIRF",
         "type": "\"integer\""
        },
        {
         "metadata": "{}",
         "name": "2020 NIRF",
         "type": "\"integer\""
        },
        {
         "metadata": "{}",
         "name": "2019 NIRF",
         "type": "\"integer\""
        },
        {
         "metadata": "{}",
         "name": "2023 QS World",
         "type": "\"integer\""
        },
        {
         "metadata": "{}",
         "name": "2022 QS World",
         "type": "\"integer\""
        },
        {
         "metadata": "{}",
         "name": "2021 QS World",
         "type": "\"integer\""
        },
        {
         "metadata": "{}",
         "name": "2020 QS World",
         "type": "\"integer\""
        },
        {
         "metadata": "{}",
         "name": "2022 QS Asia",
         "type": "\"integer\""
        },
        {
         "metadata": "{}",
         "name": "2020 QS India",
         "type": "\"integer\""
        },
        {
         "metadata": "{}",
         "name": "Times World",
         "type": "\"integer\""
        },
        {
         "metadata": "{}",
         "name": "Times Asia",
         "type": "\"integer\""
        }
       ],
       "type": "table"
      }
     },
     "output_type": "display_data"
    },
    {
     "output_type": "display_data",
     "data": {
      "text/plain": [
       "Databricks visualization. Run in Databricks to view."
      ]
     },
     "metadata": {
      "application/vnd.databricks.v1.subcommand+json": {
       "bindings": {},
       "collapsed": false,
       "command": "display(df)",
       "commandTitle": "Visualization 1",
       "commandType": "auto",
       "commandVersion": 0,
       "commentThread": [],
       "commentsVisible": false,
       "contentSha256Hex": null,
       "customPlotOptions": {
        "redashChart": [
         {
          "key": "type",
          "value": "DETAILS"
         },
         {
          "key": "options",
          "value": {
           "columns": [
            {
             "name": "IIT Name",
             "title": "IIT Name",
             "type": "string"
            },
            {
             "name": "2023 NIRF",
             "title": "2023 NIRF",
             "type": "string"
            },
            {
             "name": "2022 NIRF",
             "title": "2022 NIRF",
             "type": "string"
            },
            {
             "name": "2021 NIRF",
             "title": "2021 NIRF",
             "type": "string"
            },
            {
             "name": "2020 NIRF",
             "title": "2020 NIRF",
             "type": "string"
            },
            {
             "name": "2019 NIRF",
             "title": "2019 NIRF",
             "type": "string"
            },
            {
             "name": "2023 QS World",
             "title": "2023 QS World",
             "type": "string"
            },
            {
             "name": "2022 QS World",
             "title": "2022 QS World",
             "type": "string"
            },
            {
             "name": "2021 QS World",
             "title": "2021 QS World",
             "type": "string"
            },
            {
             "name": "2020 QS World",
             "title": "2020 QS World",
             "type": "string"
            },
            {
             "name": "2022 QS Asia",
             "title": "2022 QS Asia",
             "type": "string"
            },
            {
             "name": "2020 QS India",
             "title": "2020 QS India",
             "type": "string"
            },
            {
             "name": "Times World",
             "title": "Times World",
             "type": "string"
            },
            {
             "name": "Times Asia",
             "title": "Times Asia",
             "type": "string"
            }
           ],
           "version": 1
          }
         }
        ]
       },
       "datasetPreviewNameToCmdIdMap": {},
       "diffDeletes": [],
       "diffInserts": [],
       "displayType": "redashChart",
       "error": null,
       "errorSummary": null,
       "errorTraceType": null,
       "finishTime": 0,
       "globalVars": {},
       "guid": "",
       "height": "138.671875",
       "hideCommandCode": false,
       "hideCommandResult": false,
       "iPythonMetadata": null,
       "inputWidgets": {},
       "isLockedInExamMode": false,
       "latestUser": "a user",
       "latestUserId": null,
       "listResultMetadata": null,
       "metadata": {
        "byteLimit": 2048000,
        "rowLimit": 10000
       },
       "nuid": "40f552a3-dc64-46af-ab18-a3c8e75a895e",
       "origId": 0,
       "parentHierarchy": [],
       "pivotAggregation": null,
       "pivotColumns": null,
       "position": 7.0,
       "resultDbfsErrorMessage": null,
       "resultDbfsStatus": "INLINED_IN_TREE",
       "results": null,
       "showCommandTitle": false,
       "startTime": 0,
       "state": "finished",
       "streamStates": {},
       "subcommandOptions": {},
       "submitTime": 0,
       "subtype": "tableResultSubCmd.visualization",
       "tableResultIndex": 0,
       "useConsistentColors": false,
       "version": "CommandV1",
       "width": "1132",
       "workflows": [],
       "xColumns": null,
       "yColumns": null
      }
     },
     "output_type": "display_data"
    }
   ],
   "source": [
    "display(df)"
   ]
  },
  {
   "cell_type": "code",
   "execution_count": 0,
   "metadata": {
    "application/vnd.databricks.v1+cell": {
     "cellMetadata": {
      "byteLimit": 2048000,
      "rowLimit": 10000
     },
     "inputWidgets": {},
     "nuid": "64232c9e-7c74-487e-af7e-543dee3fd623",
     "showTitle": false,
     "title": ""
    }
   },
   "outputs": [
    {
     "output_type": "display_data",
     "data": {
      "text/html": [
       "<style scoped>\n",
       "  .table-result-container {\n",
       "    max-height: 300px;\n",
       "    overflow: auto;\n",
       "  }\n",
       "  table, th, td {\n",
       "    border: 1px solid black;\n",
       "    border-collapse: collapse;\n",
       "  }\n",
       "  th, td {\n",
       "    padding: 5px;\n",
       "  }\n",
       "  th {\n",
       "    text-align: left;\n",
       "  }\n",
       "</style><div class='table-result-container'><table class='table-result'><thead style='background-color: white'><tr><th>IIT Name</th><th>2023 NIRF</th><th>2022 NIRF</th><th>2021 NIRF</th><th>2020 NIRF</th></tr></thead><tbody><tr><td>IIT Hyderabad</td><td>8</td><td>16</td><td>17</td><td>22</td></tr><tr><td>IIT Tirupati</td><td>59</td><td>0</td><td>0</td><td>0</td></tr><tr><td>IIT Kanpur</td><td>4</td><td>5</td><td>6</td><td>6</td></tr><tr><td>IIT Gandhinagar</td><td>18</td><td>33</td><td>35</td><td>51</td></tr><tr><td>IIT Madras</td><td>1</td><td>1</td><td>1</td><td>1</td></tr><tr><td>IIT Ropar</td><td>22</td><td>31</td><td>39</td><td>29</td></tr><tr><td>IIT Delhi</td><td>2</td><td>4</td><td>3</td><td>3</td></tr><tr><td>IIT Guwahati</td><td>7</td><td>8</td><td>7</td><td>9</td></tr><tr><td>IIT (BHU) Varanasi</td><td>15</td><td>28</td><td>26</td><td>28</td></tr><tr><td>IIT Goa</td><td>0</td><td>0</td><td>0</td><td>0</td></tr><tr><td>IIT Jodhpur</td><td>30</td><td>0</td><td>0</td><td>0</td></tr><tr><td>IIT Bhubaneswar</td><td>47</td><td>58</td><td>56</td><td>46</td></tr><tr><td>IIT Jammu</td><td>67</td><td>0</td><td>0</td><td>0</td></tr><tr><td>IIT Palakkad</td><td>69</td><td>0</td><td>0</td><td>0</td></tr><tr><td>IIT Roorkee</td><td>5</td><td>7</td><td>9</td><td>8</td></tr><tr><td>IIT (ISM) Dhanbad</td><td>17</td><td>26</td><td>22</td><td>25</td></tr><tr><td>IIT Mandi</td><td>33</td><td>82</td><td>67</td><td>44</td></tr><tr><td>IIT Patna</td><td>41</td><td>51</td><td>54</td><td>58</td></tr><tr><td>IIT Indore</td><td>14</td><td>30</td><td>23</td><td>0</td></tr><tr><td>IIT Bhilai</td><td>81</td><td>0</td><td>0</td><td>0</td></tr><tr><td>IIT Bombay</td><td>3</td><td>3</td><td>4</td><td>4</td></tr><tr><td>IIT Kharagpur</td><td>6</td><td>6</td><td>5</td><td>5</td></tr><tr><td>IIT Dharwad</td><td>93</td><td>0</td><td>0</td><td>0</td></tr></tbody></table></div>"
      ]
     },
     "metadata": {
      "application/vnd.databricks.v1+output": {
       "addedWidgets": {},
       "aggData": [],
       "aggError": "",
       "aggOverflow": false,
       "aggSchema": [],
       "aggSeriesLimitReached": false,
       "aggType": "",
       "arguments": {},
       "columnCustomDisplayInfos": {},
       "data": [
        [
         "IIT Hyderabad",
         8,
         16,
         17,
         22
        ],
        [
         "IIT Tirupati",
         59,
         0,
         0,
         0
        ],
        [
         "IIT Kanpur",
         4,
         5,
         6,
         6
        ],
        [
         "IIT Gandhinagar",
         18,
         33,
         35,
         51
        ],
        [
         "IIT Madras",
         1,
         1,
         1,
         1
        ],
        [
         "IIT Ropar",
         22,
         31,
         39,
         29
        ],
        [
         "IIT Delhi",
         2,
         4,
         3,
         3
        ],
        [
         "IIT Guwahati",
         7,
         8,
         7,
         9
        ],
        [
         "IIT (BHU) Varanasi",
         15,
         28,
         26,
         28
        ],
        [
         "IIT Goa",
         0,
         0,
         0,
         0
        ],
        [
         "IIT Jodhpur",
         30,
         0,
         0,
         0
        ],
        [
         "IIT Bhubaneswar",
         47,
         58,
         56,
         46
        ],
        [
         "IIT Jammu",
         67,
         0,
         0,
         0
        ],
        [
         "IIT Palakkad",
         69,
         0,
         0,
         0
        ],
        [
         "IIT Roorkee",
         5,
         7,
         9,
         8
        ],
        [
         "IIT (ISM) Dhanbad",
         17,
         26,
         22,
         25
        ],
        [
         "IIT Mandi",
         33,
         82,
         67,
         44
        ],
        [
         "IIT Patna",
         41,
         51,
         54,
         58
        ],
        [
         "IIT Indore",
         14,
         30,
         23,
         0
        ],
        [
         "IIT Bhilai",
         81,
         0,
         0,
         0
        ],
        [
         "IIT Bombay",
         3,
         3,
         4,
         4
        ],
        [
         "IIT Kharagpur",
         6,
         6,
         5,
         5
        ],
        [
         "IIT Dharwad",
         93,
         0,
         0,
         0
        ]
       ],
       "datasetInfos": [],
       "dbfsResultPath": null,
       "isJsonSchema": true,
       "metadata": {},
       "overflow": false,
       "plotOptions": {
        "customPlotOptions": {},
        "displayType": "table",
        "pivotAggregation": null,
        "pivotColumns": null,
        "xColumns": null,
        "yColumns": null
       },
       "removedWidgets": [],
       "schema": [
        {
         "metadata": "{}",
         "name": "IIT Name",
         "type": "\"string\""
        },
        {
         "metadata": "{}",
         "name": "2023 NIRF",
         "type": "\"integer\""
        },
        {
         "metadata": "{}",
         "name": "2022 NIRF",
         "type": "\"integer\""
        },
        {
         "metadata": "{}",
         "name": "2021 NIRF",
         "type": "\"integer\""
        },
        {
         "metadata": "{}",
         "name": "2020 NIRF",
         "type": "\"integer\""
        }
       ],
       "type": "table"
      }
     },
     "output_type": "display_data"
    },
    {
     "output_type": "display_data",
     "data": {
      "text/plain": [
       "Databricks visualization. Run in Databricks to view."
      ]
     },
     "metadata": {
      "application/vnd.databricks.v1.subcommand+json": {
       "bindings": {},
       "collapsed": false,
       "command": "%python\n__backend_agg_display_orig = display\n__backend_agg_dfs = []\ndef __backend_agg_display_new(df):\n    __backend_agg_df_modules = [\"pandas.core.frame\", \"databricks.koalas.frame\", \"pyspark.sql.dataframe\", \"pyspark.pandas.frame\", \"pyspark.sql.connect.dataframe\"]\n    if (type(df).__module__ in __backend_agg_df_modules and type(df).__name__ == 'DataFrame') or isinstance(df, list):\n        __backend_agg_dfs.append(df)\n\ndisplay = __backend_agg_display_new\n\ndef __backend_agg_user_code_fn():\n    import base64\n    exec(base64.standard_b64decode(\"ZGZOSVJGID0gZGlzcGxheShkZi5zZWxlY3QoIklJVCBOYW1lIiwiMjAyMyBOSVJGIiwiMjAyMiBOSVJGIiwiMjAyMSBOSVJGIiwiMjAyMCBOSVJGIikpCgpkaXNwbGF5KGRmTklSRik=\").decode())\n\ntry:\n    # run user code\n    __backend_agg_user_code_fn()\n\n    #reset display function\n    display = __backend_agg_display_orig\n\n    if len(__backend_agg_dfs) > 0:\n        # create a temp view\n        if type(__backend_agg_dfs[0]).__module__ == \"databricks.koalas.frame\":\n            # koalas dataframe\n            __backend_agg_dfs[0].to_spark().createOrReplaceTempView(\"DatabricksView970bf1c\")\n        elif type(__backend_agg_dfs[0]).__module__ == \"pandas.core.frame\" or isinstance(__backend_agg_dfs[0], list):\n            # pandas dataframe\n            spark.createDataFrame(__backend_agg_dfs[0]).createOrReplaceTempView(\"DatabricksView970bf1c\")\n        else:\n            __backend_agg_dfs[0].createOrReplaceTempView(\"DatabricksView970bf1c\")\n        #run backend agg\n        display(spark.sql(\"\"\"WITH q AS (select * from DatabricksView970bf1c) SELECT `IIT Name`,`2023 NIRF`,`2022 NIRF`,`2021 NIRF`,`2020 NIRF` FROM q\"\"\"))\n    else:\n        displayHTML(\"dataframe no longer exists. If you're using dataframe.display(), use display(dataframe) instead.\")\n\n\nfinally:\n    spark.sql(\"drop view if exists DatabricksView970bf1c\")\n    display = __backend_agg_display_orig\n    del __backend_agg_display_new\n    del __backend_agg_display_orig\n    del __backend_agg_dfs\n    del __backend_agg_user_code_fn\n\n",
       "commandTitle": "NIRF Rankings",
       "commandType": "auto",
       "commandVersion": 0,
       "commentThread": [],
       "commentsVisible": false,
       "contentSha256Hex": null,
       "customPlotOptions": {
        "redashChart": [
         {
          "key": "type",
          "value": "CHART"
         },
         {
          "key": "options",
          "value": {
           "alignYAxesAtZero": true,
           "coefficient": 1.5,
           "columnConfigurationMap": {
            "x": {
             "column": "IIT Name",
             "id": "column_c45f21571709"
            },
            "y": [
             {
              "column": "2023 NIRF",
              "id": "column_c45f21571716"
             },
             {
              "column": "2022 NIRF",
              "id": "column_c45f21571717"
             },
             {
              "column": "2021 NIRF",
              "id": "column_c45f21571718"
             },
             {
              "column": "2020 NIRF",
              "id": "column_c45f21571719"
             }
            ]
           },
           "dateTimeFormat": "DD/MM/YYYY HH:mm",
           "direction": {
            "type": "counterclockwise"
           },
           "error_y": {
            "type": "data",
            "visible": true
           },
           "globalSeriesType": "scatter",
           "hideXAxis": false,
           "legend": {
            "traceorder": "normal"
           },
           "missingValuesAsZero": true,
           "numBins": 10,
           "numberFormat": "0,0[.]00000",
           "percentFormat": "0[.]00%",
           "reverseX": true,
           "series": {
            "error_y": {
             "type": "data",
             "visible": true
            },
            "stacking": ""
           },
           "seriesOptions": {
            "2020 NIRF": {
             "color": "#B554FF",
             "type": "scatter",
             "yAxis": 0
            },
            "2021 NIRF": {
             "color": "#FB8D3D",
             "type": "scatter",
             "yAxis": 0
            },
            "2022 NIRF": {
             "color": "#049235",
             "type": "scatter",
             "yAxis": 0
            },
            "2023 NIRF": {
             "color": "#000000",
             "type": "scatter",
             "yAxis": 0
            },
            "column_c45f21571642": {
             "color": "#981717",
             "type": "scatter",
             "yAxis": 0
            },
            "column_c45f21571644": {
             "color": "#002FB4",
             "type": "scatter",
             "yAxis": 0
            },
            "column_c45f21571646": {
             "type": "scatter",
             "yAxis": 0
            },
            "column_c45f21571706": {
             "color": "#002FB4",
             "type": "scatter",
             "yAxis": 0
            },
            "column_c45f21571716": {
             "color": "#000000",
             "type": "scatter",
             "yAxis": 0
            },
            "column_c45f21571717": {
             "color": "#049235",
             "type": "scatter",
             "yAxis": 0
            },
            "column_c45f21571718": {
             "color": "#FB8D3D",
             "type": "scatter",
             "yAxis": 0
            },
            "column_c45f21571719": {
             "color": "#B554FF",
             "type": "scatter",
             "yAxis": 0
            }
           },
           "showDataLabels": false,
           "sizemode": "diameter",
           "sortX": false,
           "sortY": true,
           "swappedAxes": false,
           "textFormat": "",
           "useAggregationsUi": true,
           "valuesOptions": {},
           "version": 2,
           "xAxis": {
            "labels": {
             "enabled": true
            },
            "type": "-"
           },
           "yAxis": [
            {
             "title": {
              "text": "NIRF Rankings"
             },
             "type": "linear"
            },
            {
             "opposite": true,
             "title": {
              "text": null
             },
             "type": "-"
            }
           ]
          }
         }
        ]
       },
       "datasetPreviewNameToCmdIdMap": {},
       "diffDeletes": [],
       "diffInserts": [],
       "displayType": "redashChart",
       "error": null,
       "errorSummary": null,
       "errorTraceType": null,
       "finishTime": 0,
       "globalVars": {},
       "guid": "",
       "height": "auto",
       "hideCommandCode": false,
       "hideCommandResult": false,
       "iPythonMetadata": null,
       "inputWidgets": {},
       "isLockedInExamMode": false,
       "latestUser": "a user",
       "latestUserId": null,
       "listResultMetadata": null,
       "metadata": {
        "byteLimit": 2048000,
        "rowLimit": 10000
       },
       "nuid": "d6a36af7-358c-4a2c-9093-aea0cf1fe3e8",
       "origId": 0,
       "parentHierarchy": [],
       "pivotAggregation": null,
       "pivotColumns": null,
       "position": 6.375,
       "resultDbfsErrorMessage": null,
       "resultDbfsStatus": "INLINED_IN_TREE",
       "results": null,
       "showCommandTitle": false,
       "startTime": 0,
       "state": "finished",
       "streamStates": {},
       "subcommandOptions": {
        "queryPlan": {
         "selects": [
          {
           "column": "IIT Name",
           "type": "column"
          },
          {
           "column": "2023 NIRF",
           "type": "column"
          },
          {
           "column": "2022 NIRF",
           "type": "column"
          },
          {
           "column": "2021 NIRF",
           "type": "column"
          },
          {
           "column": "2020 NIRF",
           "type": "column"
          }
         ]
        }
       },
       "submitTime": 0,
       "subtype": "tableResultSubCmd.visualization",
       "tableResultIndex": 0,
       "useConsistentColors": false,
       "version": "CommandV1",
       "width": "auto",
       "workflows": [],
       "xColumns": null,
       "yColumns": null
      }
     },
     "output_type": "display_data"
    },
    {
     "output_type": "display_data",
     "data": {
      "text/plain": [
       "Databricks visualization. Run in Databricks to view."
      ]
     },
     "metadata": {
      "application/vnd.databricks.v1.subcommand+json": {
       "bindings": {},
       "collapsed": false,
       "command": "dfNIRF = display(df.select(\"IIT Name\",\"2023 NIRF\",\"2022 NIRF\",\"2021 NIRF\",\"2020 NIRF\"))\n\ndisplay(dfNIRF)",
       "commandTitle": "2023 NIRF",
       "commandType": "auto",
       "commandVersion": 0,
       "commentThread": [],
       "commentsVisible": false,
       "contentSha256Hex": null,
       "customPlotOptions": {
        "redashChart": [
         {
          "key": "type",
          "value": "FUNNEL"
         },
         {
          "key": "options",
          "value": {
           "autoSort": false,
           "itemsLimit": 100,
           "numberFormat": "0,0[.]00",
           "percentFormat": "0[.]00%",
           "percentValuesRange": {
            "max": 1000,
            "min": 0.01
           },
           "sortKeyCol": {
            "colName": "2023 NIRF",
            "reverse": false
           },
           "stepCol": {
            "colName": "IIT Name",
            "displayAs": "IIT"
           },
           "valueCol": {
            "colName": "2023 NIRF",
            "displayAs": "2023 NIRF"
           }
          }
         }
        ]
       },
       "datasetPreviewNameToCmdIdMap": {},
       "diffDeletes": [],
       "diffInserts": [],
       "displayType": "redashChart",
       "error": null,
       "errorSummary": null,
       "errorTraceType": null,
       "finishTime": 0,
       "globalVars": {},
       "guid": "",
       "height": "auto",
       "hideCommandCode": false,
       "hideCommandResult": false,
       "iPythonMetadata": null,
       "inputWidgets": {},
       "isLockedInExamMode": false,
       "latestUser": "a user",
       "latestUserId": null,
       "listResultMetadata": null,
       "metadata": {
        "byteLimit": 2048000,
        "rowLimit": 10000
       },
       "nuid": "daf5d178-2c9c-4da0-a729-d9c6d094cdfe",
       "origId": 0,
       "parentHierarchy": [],
       "pivotAggregation": null,
       "pivotColumns": null,
       "position": 7.375,
       "resultDbfsErrorMessage": null,
       "resultDbfsStatus": "INLINED_IN_TREE",
       "results": null,
       "showCommandTitle": false,
       "startTime": 0,
       "state": "finished",
       "streamStates": {},
       "subcommandOptions": {},
       "submitTime": 0,
       "subtype": "tableResultSubCmd.visualization",
       "tableResultIndex": 0,
       "useConsistentColors": false,
       "version": "CommandV1",
       "width": "auto",
       "workflows": [],
       "xColumns": null,
       "yColumns": null
      }
     },
     "output_type": "display_data"
    },
    {
     "output_type": "display_data",
     "data": {
      "text/plain": [
       "Databricks visualization. Run in Databricks to view."
      ]
     },
     "metadata": {
      "application/vnd.databricks.v1.subcommand+json": {
       "bindings": {},
       "collapsed": false,
       "command": "dfNIRF = display(df.select(\"IIT Name\",\"2023 NIRF\",\"2022 NIRF\",\"2021 NIRF\",\"2020 NIRF\"))\n\ndisplay(dfNIRF)",
       "commandTitle": "2022 NIRF",
       "commandType": "auto",
       "commandVersion": 0,
       "commentThread": [],
       "commentsVisible": false,
       "contentSha256Hex": null,
       "customPlotOptions": {
        "redashChart": [
         {
          "key": "type",
          "value": "FUNNEL"
         },
         {
          "key": "options",
          "value": {
           "autoSort": false,
           "itemsLimit": 100,
           "numberFormat": "0,0[.]00",
           "percentFormat": "0[.]00%",
           "percentValuesRange": {
            "max": 1000,
            "min": "1"
           },
           "sortKeyCol": {
            "colName": "2022 NIRF",
            "reverse": false
           },
           "stepCol": {
            "colName": "IIT Name",
            "displayAs": "IIT"
           },
           "valueCol": {
            "colName": "2022 NIRF",
            "displayAs": "2022 NIRF"
           }
          }
         }
        ]
       },
       "datasetPreviewNameToCmdIdMap": {},
       "diffDeletes": [],
       "diffInserts": [],
       "displayType": "redashChart",
       "error": null,
       "errorSummary": null,
       "errorTraceType": null,
       "finishTime": 0,
       "globalVars": {},
       "guid": "",
       "height": "auto",
       "hideCommandCode": false,
       "hideCommandResult": false,
       "iPythonMetadata": null,
       "inputWidgets": {},
       "isLockedInExamMode": false,
       "latestUser": "a user",
       "latestUserId": null,
       "listResultMetadata": null,
       "metadata": {
        "byteLimit": 2048000,
        "rowLimit": 10000
       },
       "nuid": "e84dd747-6f54-4d6b-8e9e-999953808d23",
       "origId": 0,
       "parentHierarchy": [],
       "pivotAggregation": null,
       "pivotColumns": null,
       "position": 8.375,
       "resultDbfsErrorMessage": null,
       "resultDbfsStatus": "INLINED_IN_TREE",
       "results": null,
       "showCommandTitle": false,
       "startTime": 0,
       "state": "finished",
       "streamStates": {},
       "subcommandOptions": {},
       "submitTime": 0,
       "subtype": "tableResultSubCmd.visualization",
       "tableResultIndex": 0,
       "useConsistentColors": false,
       "version": "CommandV1",
       "width": "auto",
       "workflows": [],
       "xColumns": null,
       "yColumns": null
      }
     },
     "output_type": "display_data"
    },
    {
     "output_type": "display_data",
     "data": {
      "text/plain": [
       "Databricks visualization. Run in Databricks to view."
      ]
     },
     "metadata": {
      "application/vnd.databricks.v1.subcommand+json": {
       "bindings": {},
       "collapsed": false,
       "command": "dfNIRF = display(df.select(\"IIT Name\",\"2023 NIRF\",\"2022 NIRF\",\"2021 NIRF\",\"2020 NIRF\"))\n\ndisplay(dfNIRF)",
       "commandTitle": "2021 NIRF",
       "commandType": "auto",
       "commandVersion": 0,
       "commentThread": [],
       "commentsVisible": false,
       "contentSha256Hex": null,
       "customPlotOptions": {
        "redashChart": [
         {
          "key": "type",
          "value": "FUNNEL"
         },
         {
          "key": "options",
          "value": {
           "autoSort": false,
           "itemsLimit": 100,
           "numberFormat": "0,0[.]00",
           "percentFormat": "0[.]00%",
           "percentValuesRange": {
            "max": 1000,
            "min": 0.01
           },
           "sortKeyCol": {
            "colName": "2021 NIRF",
            "reverse": false
           },
           "stepCol": {
            "colName": "IIT Name",
            "displayAs": "IIT"
           },
           "valueCol": {
            "colName": "2021 NIRF",
            "displayAs": "2021 NIRF"
           }
          }
         }
        ]
       },
       "datasetPreviewNameToCmdIdMap": {},
       "diffDeletes": [],
       "diffInserts": [],
       "displayType": "redashChart",
       "error": null,
       "errorSummary": null,
       "errorTraceType": null,
       "finishTime": 0,
       "globalVars": {},
       "guid": "",
       "height": "auto",
       "hideCommandCode": false,
       "hideCommandResult": false,
       "iPythonMetadata": null,
       "inputWidgets": {},
       "isLockedInExamMode": false,
       "latestUser": "a user",
       "latestUserId": null,
       "listResultMetadata": null,
       "metadata": {
        "byteLimit": 2048000,
        "rowLimit": 10000
       },
       "nuid": "5990847f-75f3-4fb8-ba97-e711ac20b876",
       "origId": 0,
       "parentHierarchy": [],
       "pivotAggregation": null,
       "pivotColumns": null,
       "position": 9.375,
       "resultDbfsErrorMessage": null,
       "resultDbfsStatus": "INLINED_IN_TREE",
       "results": null,
       "showCommandTitle": false,
       "startTime": 0,
       "state": "finished",
       "streamStates": {},
       "subcommandOptions": {},
       "submitTime": 0,
       "subtype": "tableResultSubCmd.visualization",
       "tableResultIndex": 0,
       "useConsistentColors": false,
       "version": "CommandV1",
       "width": "auto",
       "workflows": [],
       "xColumns": null,
       "yColumns": null
      }
     },
     "output_type": "display_data"
    },
    {
     "output_type": "display_data",
     "data": {
      "text/plain": [
       "Databricks visualization. Run in Databricks to view."
      ]
     },
     "metadata": {
      "application/vnd.databricks.v1.subcommand+json": {
       "bindings": {},
       "collapsed": false,
       "command": "dfNIRF = display(df.select(\"IIT Name\",\"2023 NIRF\",\"2022 NIRF\",\"2021 NIRF\",\"2020 NIRF\"))\n\ndisplay(dfNIRF)",
       "commandTitle": "2020 NIRF",
       "commandType": "auto",
       "commandVersion": 0,
       "commentThread": [],
       "commentsVisible": false,
       "contentSha256Hex": null,
       "customPlotOptions": {
        "redashChart": [
         {
          "key": "type",
          "value": "FUNNEL"
         },
         {
          "key": "options",
          "value": {
           "autoSort": false,
           "itemsLimit": 100,
           "numberFormat": "0,0[.]00",
           "percentFormat": "0[.]00%",
           "percentValuesRange": {
            "max": 1000,
            "min": 0.01
           },
           "sortKeyCol": {
            "colName": "2020 NIRF",
            "reverse": false
           },
           "stepCol": {
            "colName": "IIT Name",
            "displayAs": "IIT"
           },
           "valueCol": {
            "colName": "2020 NIRF",
            "displayAs": "2020 NIRF"
           }
          }
         }
        ]
       },
       "datasetPreviewNameToCmdIdMap": {},
       "diffDeletes": [],
       "diffInserts": [],
       "displayType": "redashChart",
       "error": null,
       "errorSummary": null,
       "errorTraceType": null,
       "finishTime": 0,
       "globalVars": {},
       "guid": "",
       "height": "155",
       "hideCommandCode": false,
       "hideCommandResult": false,
       "iPythonMetadata": null,
       "inputWidgets": {},
       "isLockedInExamMode": false,
       "latestUser": "a user",
       "latestUserId": null,
       "listResultMetadata": null,
       "metadata": {
        "byteLimit": 2048000,
        "rowLimit": 10000
       },
       "nuid": "b96fb3a0-679e-493e-9730-d3968ddbb0b5",
       "origId": 0,
       "parentHierarchy": [],
       "pivotAggregation": null,
       "pivotColumns": null,
       "position": 10.375,
       "resultDbfsErrorMessage": null,
       "resultDbfsStatus": "INLINED_IN_TREE",
       "results": null,
       "showCommandTitle": false,
       "startTime": 0,
       "state": "finished",
       "streamStates": {},
       "subcommandOptions": {},
       "submitTime": 0,
       "subtype": "tableResultSubCmd.visualization",
       "tableResultIndex": 0,
       "useConsistentColors": false,
       "version": "CommandV1",
       "width": "auto",
       "workflows": [],
       "xColumns": null,
       "yColumns": null
      }
     },
     "output_type": "display_data"
    }
   ],
   "source": [
    "dfNIRF = display(df.select(\"IIT Name\",\"2023 NIRF\",\"2022 NIRF\",\"2021 NIRF\",\"2020 NIRF\"))\n",
    "\n",
    "display(dfNIRF)"
   ]
  },
  {
   "cell_type": "code",
   "execution_count": 0,
   "metadata": {
    "application/vnd.databricks.v1+cell": {
     "cellMetadata": {
      "byteLimit": 2048000,
      "rowLimit": 10000
     },
     "inputWidgets": {},
     "nuid": "9c59fee6-9322-4c7b-8978-9d7fd3ec19a6",
     "showTitle": false,
     "title": ""
    }
   },
   "outputs": [
    {
     "output_type": "display_data",
     "data": {
      "text/html": [
       "<style scoped>\n",
       "  .table-result-container {\n",
       "    max-height: 300px;\n",
       "    overflow: auto;\n",
       "  }\n",
       "  table, th, td {\n",
       "    border: 1px solid black;\n",
       "    border-collapse: collapse;\n",
       "  }\n",
       "  th, td {\n",
       "    padding: 5px;\n",
       "  }\n",
       "  th {\n",
       "    text-align: left;\n",
       "  }\n",
       "</style><div class='table-result-container'><table class='table-result'><thead style='background-color: white'><tr><th>IIT Name</th><th>Times WOrld</th></tr></thead><tbody><tr><td>IIT Hyderabad</td><td>144</td></tr><tr><td>IIT Tirupati</td><td>0</td></tr><tr><td>IIT Kanpur</td><td>125</td></tr><tr><td>IIT Gandhinagar</td><td>0</td></tr><tr><td>IIT Madras</td><td>125</td></tr><tr><td>IIT Ropar</td><td>55</td></tr><tr><td>IIT Delhi</td><td>67</td></tr><tr><td>IIT Guwahati</td><td>160</td></tr><tr><td>IIT (BHU) Varanasi</td><td>0</td></tr><tr><td>IIT Goa</td><td>0</td></tr><tr><td>IIT Jodhpur</td><td>0</td></tr><tr><td>IIT Bhubaneswar</td><td>251</td></tr><tr><td>IIT Jammu</td><td>0</td></tr><tr><td>IIT Palakkad</td><td>0</td></tr><tr><td>IIT Roorkee</td><td>83</td></tr><tr><td>IIT (ISM) Dhanbad</td><td>201</td></tr><tr><td>IIT Mandi</td><td>0</td></tr><tr><td>IIT Patna</td><td>301</td></tr><tr><td>IIT Indore</td><td>78</td></tr><tr><td>IIT Bhilai</td><td>0</td></tr><tr><td>IIT Bombay</td><td>69</td></tr><tr><td>IIT Kharagpur</td><td>59</td></tr><tr><td>IIT Dharwad</td><td>0</td></tr></tbody></table></div>"
      ]
     },
     "metadata": {
      "application/vnd.databricks.v1+output": {
       "addedWidgets": {},
       "aggData": [],
       "aggError": "",
       "aggOverflow": false,
       "aggSchema": [],
       "aggSeriesLimitReached": false,
       "aggType": "",
       "arguments": {},
       "columnCustomDisplayInfos": {},
       "data": [
        [
         "IIT Hyderabad",
         144
        ],
        [
         "IIT Tirupati",
         0
        ],
        [
         "IIT Kanpur",
         125
        ],
        [
         "IIT Gandhinagar",
         0
        ],
        [
         "IIT Madras",
         125
        ],
        [
         "IIT Ropar",
         55
        ],
        [
         "IIT Delhi",
         67
        ],
        [
         "IIT Guwahati",
         160
        ],
        [
         "IIT (BHU) Varanasi",
         0
        ],
        [
         "IIT Goa",
         0
        ],
        [
         "IIT Jodhpur",
         0
        ],
        [
         "IIT Bhubaneswar",
         251
        ],
        [
         "IIT Jammu",
         0
        ],
        [
         "IIT Palakkad",
         0
        ],
        [
         "IIT Roorkee",
         83
        ],
        [
         "IIT (ISM) Dhanbad",
         201
        ],
        [
         "IIT Mandi",
         0
        ],
        [
         "IIT Patna",
         301
        ],
        [
         "IIT Indore",
         78
        ],
        [
         "IIT Bhilai",
         0
        ],
        [
         "IIT Bombay",
         69
        ],
        [
         "IIT Kharagpur",
         59
        ],
        [
         "IIT Dharwad",
         0
        ]
       ],
       "datasetInfos": [],
       "dbfsResultPath": null,
       "isJsonSchema": true,
       "metadata": {},
       "overflow": false,
       "plotOptions": {
        "customPlotOptions": {},
        "displayType": "table",
        "pivotAggregation": null,
        "pivotColumns": null,
        "xColumns": null,
        "yColumns": null
       },
       "removedWidgets": [],
       "schema": [
        {
         "metadata": "{}",
         "name": "IIT Name",
         "type": "\"string\""
        },
        {
         "metadata": "{}",
         "name": "Times WOrld",
         "type": "\"integer\""
        }
       ],
       "type": "table"
      }
     },
     "output_type": "display_data"
    },
    {
     "output_type": "display_data",
     "data": {
      "text/plain": [
       "Databricks visualization. Run in Databricks to view."
      ]
     },
     "metadata": {
      "application/vnd.databricks.v1.subcommand+json": {
       "bindings": {},
       "collapsed": false,
       "command": "display(df.select(\"IIT Name\",\"Times WOrld\"))\n#display(df)",
       "commandTitle": "Times World",
       "commandType": "auto",
       "commandVersion": 0,
       "commentThread": [],
       "commentsVisible": false,
       "contentSha256Hex": null,
       "customPlotOptions": {
        "redashChart": [
         {
          "key": "type",
          "value": "FUNNEL"
         },
         {
          "key": "options",
          "value": {
           "autoSort": false,
           "itemsLimit": 100,
           "numberFormat": "0,0[.]00",
           "percentFormat": "0[.]00%",
           "percentValuesRange": {
            "max": 1000,
            "min": "0.01"
           },
           "sortKeyCol": {
            "colName": "Times WOrld",
            "reverse": false
           },
           "stepCol": {
            "colName": "IIT Name",
            "displayAs": "IIT"
           },
           "valueCol": {
            "colName": "Times WOrld",
            "displayAs": "Times World Ranks"
           }
          }
         }
        ]
       },
       "datasetPreviewNameToCmdIdMap": {},
       "diffDeletes": [],
       "diffInserts": [],
       "displayType": "redashChart",
       "error": null,
       "errorSummary": null,
       "errorTraceType": null,
       "finishTime": 0,
       "globalVars": {},
       "guid": "",
       "height": "auto",
       "hideCommandCode": false,
       "hideCommandResult": false,
       "iPythonMetadata": null,
       "inputWidgets": {},
       "isLockedInExamMode": false,
       "latestUser": "a user",
       "latestUserId": null,
       "listResultMetadata": null,
       "metadata": {
        "byteLimit": 2048000,
        "rowLimit": 10000
       },
       "nuid": "d98b5f12-2d04-4db1-ba30-f7094f273ae2",
       "origId": 0,
       "parentHierarchy": [],
       "pivotAggregation": null,
       "pivotColumns": null,
       "position": 8.0,
       "resultDbfsErrorMessage": null,
       "resultDbfsStatus": "INLINED_IN_TREE",
       "results": null,
       "showCommandTitle": false,
       "startTime": 0,
       "state": "finished",
       "streamStates": {},
       "subcommandOptions": {},
       "submitTime": 0,
       "subtype": "tableResultSubCmd.visualization",
       "tableResultIndex": 0,
       "useConsistentColors": false,
       "version": "CommandV1",
       "width": "auto",
       "workflows": [],
       "xColumns": null,
       "yColumns": null
      }
     },
     "output_type": "display_data"
    }
   ],
   "source": [
    "display(df.select(\"IIT Name\",\"Times WOrld\"))\n",
    "#display(df)"
   ]
  },
  {
   "cell_type": "code",
   "execution_count": 0,
   "metadata": {
    "application/vnd.databricks.v1+cell": {
     "cellMetadata": {
      "byteLimit": 2048000,
      "rowLimit": 10000
     },
     "inputWidgets": {},
     "nuid": "f09106a1-4352-4bd2-8af7-740c0e7089a7",
     "showTitle": false,
     "title": ""
    }
   },
   "outputs": [
    {
     "output_type": "display_data",
     "data": {
      "text/html": [
       "<style scoped>\n",
       "  .table-result-container {\n",
       "    max-height: 300px;\n",
       "    overflow: auto;\n",
       "  }\n",
       "  table, th, td {\n",
       "    border: 1px solid black;\n",
       "    border-collapse: collapse;\n",
       "  }\n",
       "  th, td {\n",
       "    padding: 5px;\n",
       "  }\n",
       "  th {\n",
       "    text-align: left;\n",
       "  }\n",
       "</style><div class='table-result-container'><table class='table-result'><thead style='background-color: white'><tr><th>IIT Name</th><th>2023 NIRF</th><th>2022 NIRF</th><th>2021 NIRF</th><th>2020 NIRF</th><th>2019 NIRF</th><th>2023 QS World</th><th>2022 QS World</th><th>2021 QS World</th><th>2020 QS World</th><th>2022 QS Asia</th><th>2020 QS India</th><th>Times World</th><th>Times Asia</th></tr></thead><tbody><tr><td>IIT Hyderabad</td><td>8</td><td>16</td><td>17</td><td>22</td><td>581</td><td>0</td><td>0</td><td>0</td><td>224</td><td>15</td><td>601</td><td>144</td><td>0</td></tr><tr><td>IIT Tirupati</td><td>59</td><td>0</td><td>0</td><td>0</td><td>0</td><td>0</td><td>0</td><td>0</td><td>0</td><td>0</td><td>0</td><td>0</td><td>0</td></tr><tr><td>IIT Kanpur</td><td>4</td><td>5</td><td>6</td><td>6</td><td>264</td><td>277</td><td>350</td><td>291</td><td>64</td><td>6</td><td>601</td><td>125</td><td>0</td></tr><tr><td>IIT Gandhinagar</td><td>18</td><td>33</td><td>35</td><td>51</td><td>0</td><td>0</td><td>0</td><td>0</td><td>301</td><td>0</td><td>601</td><td>0</td><td>0</td></tr><tr><td>IIT Madras</td><td>1</td><td>1</td><td>1</td><td>1</td><td>250</td><td>255</td><td>275</td><td>271</td><td>54</td><td>4</td><td>601</td><td>125</td><td>0</td></tr><tr><td>IIT Ropar</td><td>22</td><td>31</td><td>39</td><td>29</td><td>0</td><td>0</td><td>0</td><td>0</td><td>261</td><td>25</td><td>351</td><td>55</td><td>0</td></tr><tr><td>IIT Delhi</td><td>2</td><td>4</td><td>3</td><td>3</td><td>174</td><td>185</td><td>193</td><td>182</td><td>45</td><td>3</td><td>401</td><td>67</td><td>0</td></tr><tr><td>IIT Guwahati</td><td>7</td><td>8</td><td>7</td><td>9</td><td>384</td><td>395</td><td>470</td><td>491</td><td>119</td><td>10</td><td>601</td><td>160</td><td>0</td></tr><tr><td>IIT (BHU) Varanasi</td><td>15</td><td>28</td><td>26</td><td>28</td><td>0</td><td>0</td><td>0</td><td>0</td><td>281</td><td>0</td><td>0</td><td>0</td><td>0</td></tr><tr><td>IIT Goa</td><td>0</td><td>0</td><td>0</td><td>0</td><td>0</td><td>0</td><td>0</td><td>0</td><td>0</td><td>0</td><td>0</td><td>0</td><td>0</td></tr><tr><td>IIT Jodhpur</td><td>30</td><td>0</td><td>0</td><td>0</td><td>0</td><td>0</td><td>0</td><td>0</td><td>0</td><td>0</td><td>0</td><td>0</td><td>0</td></tr><tr><td>IIT Bhubaneswar</td><td>47</td><td>58</td><td>56</td><td>46</td><td>801</td><td>0</td><td>0</td><td>0</td><td>251</td><td>20</td><td>1001</td><td>251</td><td>0</td></tr><tr><td>IIT Jammu</td><td>67</td><td>0</td><td>0</td><td>0</td><td>0</td><td>0</td><td>0</td><td>0</td><td>0</td><td>0</td><td>0</td><td>0</td><td>0</td></tr><tr><td>IIT Palakkad</td><td>69</td><td>0</td><td>0</td><td>0</td><td>0</td><td>0</td><td>0</td><td>0</td><td>0</td><td>0</td><td>0</td><td>0</td><td>0</td></tr><tr><td>IIT Roorkee</td><td>5</td><td>7</td><td>9</td><td>8</td><td>369</td><td>400</td><td>383</td><td>383</td><td>109</td><td>9</td><td>501</td><td>83</td><td>0</td></tr><tr><td>IIT (ISM) Dhanbad</td><td>17</td><td>26</td><td>22</td><td>25</td><td>0</td><td>0</td><td>0</td><td>0</td><td>251</td><td>46</td><td>1001</td><td>201</td><td>0</td></tr><tr><td>IIT Mandi</td><td>33</td><td>82</td><td>67</td><td>44</td><td>0</td><td>0</td><td>0</td><td>0</td><td>0</td><td>0</td><td>1001</td><td>0</td><td>0</td></tr><tr><td>IIT Patna</td><td>41</td><td>51</td><td>54</td><td>58</td><td>0</td><td>0</td><td>0</td><td>0</td><td>301</td><td>36</td><td>801</td><td>301</td><td>0</td></tr><tr><td>IIT Indore</td><td>14</td><td>30</td><td>23</td><td>0</td><td>396</td><td>0</td><td>0</td><td>0</td><td>178</td><td>13</td><td>401</td><td>78</td><td>0</td></tr><tr><td>IIT Bhilai</td><td>81</td><td>0</td><td>0</td><td>0</td><td>0</td><td>0</td><td>0</td><td>0</td><td>0</td><td>0</td><td>0</td><td>0</td><td>0</td></tr><tr><td>IIT Bombay</td><td>3</td><td>3</td><td>4</td><td>4</td><td>172</td><td>177</td><td>172</td><td>152</td><td>42</td><td>1</td><td>401</td><td>69</td><td>0</td></tr><tr><td>IIT Kharagpur</td><td>6</td><td>6</td><td>5</td><td>5</td><td>270</td><td>280</td><td>314</td><td>281</td><td>60</td><td>5</td><td>401</td><td>59</td><td>0</td></tr><tr><td>IIT Dharwad</td><td>93</td><td>0</td><td>0</td><td>0</td><td>0</td><td>0</td><td>0</td><td>0</td><td>0</td><td>0</td><td>0</td><td>0</td><td>0</td></tr></tbody></table></div>"
      ]
     },
     "metadata": {
      "application/vnd.databricks.v1+output": {
       "addedWidgets": {},
       "aggData": [],
       "aggError": "",
       "aggOverflow": false,
       "aggSchema": [],
       "aggSeriesLimitReached": false,
       "aggType": "",
       "arguments": {},
       "columnCustomDisplayInfos": {},
       "data": [
        [
         "IIT Hyderabad",
         8,
         16,
         17,
         22,
         581,
         0,
         0,
         0,
         224,
         15,
         601,
         144,
         0
        ],
        [
         "IIT Tirupati",
         59,
         0,
         0,
         0,
         0,
         0,
         0,
         0,
         0,
         0,
         0,
         0,
         0
        ],
        [
         "IIT Kanpur",
         4,
         5,
         6,
         6,
         264,
         277,
         350,
         291,
         64,
         6,
         601,
         125,
         0
        ],
        [
         "IIT Gandhinagar",
         18,
         33,
         35,
         51,
         0,
         0,
         0,
         0,
         301,
         0,
         601,
         0,
         0
        ],
        [
         "IIT Madras",
         1,
         1,
         1,
         1,
         250,
         255,
         275,
         271,
         54,
         4,
         601,
         125,
         0
        ],
        [
         "IIT Ropar",
         22,
         31,
         39,
         29,
         0,
         0,
         0,
         0,
         261,
         25,
         351,
         55,
         0
        ],
        [
         "IIT Delhi",
         2,
         4,
         3,
         3,
         174,
         185,
         193,
         182,
         45,
         3,
         401,
         67,
         0
        ],
        [
         "IIT Guwahati",
         7,
         8,
         7,
         9,
         384,
         395,
         470,
         491,
         119,
         10,
         601,
         160,
         0
        ],
        [
         "IIT (BHU) Varanasi",
         15,
         28,
         26,
         28,
         0,
         0,
         0,
         0,
         281,
         0,
         0,
         0,
         0
        ],
        [
         "IIT Goa",
         0,
         0,
         0,
         0,
         0,
         0,
         0,
         0,
         0,
         0,
         0,
         0,
         0
        ],
        [
         "IIT Jodhpur",
         30,
         0,
         0,
         0,
         0,
         0,
         0,
         0,
         0,
         0,
         0,
         0,
         0
        ],
        [
         "IIT Bhubaneswar",
         47,
         58,
         56,
         46,
         801,
         0,
         0,
         0,
         251,
         20,
         1001,
         251,
         0
        ],
        [
         "IIT Jammu",
         67,
         0,
         0,
         0,
         0,
         0,
         0,
         0,
         0,
         0,
         0,
         0,
         0
        ],
        [
         "IIT Palakkad",
         69,
         0,
         0,
         0,
         0,
         0,
         0,
         0,
         0,
         0,
         0,
         0,
         0
        ],
        [
         "IIT Roorkee",
         5,
         7,
         9,
         8,
         369,
         400,
         383,
         383,
         109,
         9,
         501,
         83,
         0
        ],
        [
         "IIT (ISM) Dhanbad",
         17,
         26,
         22,
         25,
         0,
         0,
         0,
         0,
         251,
         46,
         1001,
         201,
         0
        ],
        [
         "IIT Mandi",
         33,
         82,
         67,
         44,
         0,
         0,
         0,
         0,
         0,
         0,
         1001,
         0,
         0
        ],
        [
         "IIT Patna",
         41,
         51,
         54,
         58,
         0,
         0,
         0,
         0,
         301,
         36,
         801,
         301,
         0
        ],
        [
         "IIT Indore",
         14,
         30,
         23,
         0,
         396,
         0,
         0,
         0,
         178,
         13,
         401,
         78,
         0
        ],
        [
         "IIT Bhilai",
         81,
         0,
         0,
         0,
         0,
         0,
         0,
         0,
         0,
         0,
         0,
         0,
         0
        ],
        [
         "IIT Bombay",
         3,
         3,
         4,
         4,
         172,
         177,
         172,
         152,
         42,
         1,
         401,
         69,
         0
        ],
        [
         "IIT Kharagpur",
         6,
         6,
         5,
         5,
         270,
         280,
         314,
         281,
         60,
         5,
         401,
         59,
         0
        ],
        [
         "IIT Dharwad",
         93,
         0,
         0,
         0,
         0,
         0,
         0,
         0,
         0,
         0,
         0,
         0,
         0
        ]
       ],
       "datasetInfos": [],
       "dbfsResultPath": null,
       "isJsonSchema": true,
       "metadata": {},
       "overflow": false,
       "plotOptions": {
        "customPlotOptions": {},
        "displayType": "table",
        "pivotAggregation": null,
        "pivotColumns": null,
        "xColumns": null,
        "yColumns": null
       },
       "removedWidgets": [],
       "schema": [
        {
         "metadata": "{}",
         "name": "IIT Name",
         "type": "\"string\""
        },
        {
         "metadata": "{}",
         "name": "2023 NIRF",
         "type": "\"integer\""
        },
        {
         "metadata": "{}",
         "name": "2022 NIRF",
         "type": "\"integer\""
        },
        {
         "metadata": "{}",
         "name": "2021 NIRF",
         "type": "\"integer\""
        },
        {
         "metadata": "{}",
         "name": "2020 NIRF",
         "type": "\"integer\""
        },
        {
         "metadata": "{}",
         "name": "2019 NIRF",
         "type": "\"integer\""
        },
        {
         "metadata": "{}",
         "name": "2023 QS World",
         "type": "\"integer\""
        },
        {
         "metadata": "{}",
         "name": "2022 QS World",
         "type": "\"integer\""
        },
        {
         "metadata": "{}",
         "name": "2021 QS World",
         "type": "\"integer\""
        },
        {
         "metadata": "{}",
         "name": "2020 QS World",
         "type": "\"integer\""
        },
        {
         "metadata": "{}",
         "name": "2022 QS Asia",
         "type": "\"integer\""
        },
        {
         "metadata": "{}",
         "name": "2020 QS India",
         "type": "\"integer\""
        },
        {
         "metadata": "{}",
         "name": "Times World",
         "type": "\"integer\""
        },
        {
         "metadata": "{}",
         "name": "Times Asia",
         "type": "\"integer\""
        }
       ],
       "type": "table"
      }
     },
     "output_type": "display_data"
    },
    {
     "output_type": "display_data",
     "data": {
      "text/plain": [
       "Databricks visualization. Run in Databricks to view."
      ]
     },
     "metadata": {
      "application/vnd.databricks.v1.subcommand+json": {
       "bindings": {},
       "collapsed": false,
       "command": "%python\n__backend_agg_display_orig = display\n__backend_agg_dfs = []\ndef __backend_agg_display_new(df):\n    __backend_agg_df_modules = [\"pandas.core.frame\", \"databricks.koalas.frame\", \"pyspark.sql.dataframe\", \"pyspark.pandas.frame\", \"pyspark.sql.connect.dataframe\"]\n    if (type(df).__module__ in __backend_agg_df_modules and type(df).__name__ == 'DataFrame') or isinstance(df, list):\n        __backend_agg_dfs.append(df)\n\ndisplay = __backend_agg_display_new\n\ndef __backend_agg_user_code_fn():\n    import base64\n    exec(base64.standard_b64decode(\"ZGlzcGxheShkZik=\").decode())\n\ntry:\n    # run user code\n    __backend_agg_user_code_fn()\n\n    #reset display function\n    display = __backend_agg_display_orig\n\n    if len(__backend_agg_dfs) > 0:\n        # create a temp view\n        if type(__backend_agg_dfs[0]).__module__ == \"databricks.koalas.frame\":\n            # koalas dataframe\n            __backend_agg_dfs[0].to_spark().createOrReplaceTempView(\"DatabricksView6f7c0ac\")\n        elif type(__backend_agg_dfs[0]).__module__ == \"pandas.core.frame\" or isinstance(__backend_agg_dfs[0], list):\n            # pandas dataframe\n            spark.createDataFrame(__backend_agg_dfs[0]).createOrReplaceTempView(\"DatabricksView6f7c0ac\")\n        else:\n            __backend_agg_dfs[0].createOrReplaceTempView(\"DatabricksView6f7c0ac\")\n        #run backend agg\n        display(spark.sql(\"\"\"WITH q AS (select * from DatabricksView6f7c0ac) SELECT `IIT Name`,`2023 QS World`,`2022 QS World`,`2021 QS World`,`2020 QS World` FROM q\"\"\"))\n    else:\n        displayHTML(\"dataframe no longer exists. If you're using dataframe.display(), use display(dataframe) instead.\")\n\n\nfinally:\n    spark.sql(\"drop view if exists DatabricksView6f7c0ac\")\n    display = __backend_agg_display_orig\n    del __backend_agg_display_new\n    del __backend_agg_display_orig\n    del __backend_agg_dfs\n    del __backend_agg_user_code_fn\n\n",
       "commandTitle": "QS World Rankings",
       "commandType": "auto",
       "commandVersion": 0,
       "commentThread": [],
       "commentsVisible": false,
       "contentSha256Hex": null,
       "customPlotOptions": {
        "redashChart": [
         {
          "key": "type",
          "value": "CHART"
         },
         {
          "key": "options",
          "value": {
           "alignYAxesAtZero": true,
           "coefficient": 1,
           "columnConfigurationMap": {
            "x": {
             "column": "IIT Name",
             "id": "column_c45f2157482"
            },
            "y": [
             {
              "column": "2023 QS World",
              "id": "column_c45f2157489"
             },
             {
              "column": "2022 QS World",
              "id": "column_c45f2157490"
             },
             {
              "column": "2021 QS World",
              "id": "column_c45f2157491"
             },
             {
              "column": "2020 QS World",
              "id": "column_c45f2157492"
             }
            ]
           },
           "dateTimeFormat": "DD/MM/YYYY HH:mm",
           "direction": {
            "type": "counterclockwise"
           },
           "error_y": {
            "type": "data",
            "visible": true
           },
           "globalSeriesType": "bubble",
           "legend": {
            "traceorder": "normal"
           },
           "missingValuesAsZero": true,
           "numberFormat": "0,0[.]00000",
           "percentFormat": "0[.]00%",
           "series": {
            "error_y": {
             "type": "data",
             "visible": true
            },
            "stacking": null
           },
           "seriesOptions": {
            "2020 QS World": {
             "type": "bubble",
             "yAxis": 0
            },
            "2021 QS World": {
             "type": "bubble",
             "yAxis": 0
            },
            "2022 QS World": {
             "type": "bubble",
             "yAxis": 0
            },
            "2023 QS World": {
             "type": "bubble",
             "yAxis": 0
            }
           },
           "showDataLabels": false,
           "sizemode": "diameter",
           "sortX": true,
           "sortY": true,
           "swappedAxes": false,
           "textFormat": "",
           "useAggregationsUi": true,
           "valuesOptions": {},
           "version": 2,
           "xAxis": {
            "labels": {
             "enabled": true
            },
            "type": "category"
           },
           "yAxis": [
            {
             "title": {
              "text": "QS World Rankings"
             },
             "type": "linear"
            },
            {
             "opposite": true,
             "type": "-"
            }
           ]
          }
         }
        ]
       },
       "datasetPreviewNameToCmdIdMap": {},
       "diffDeletes": [],
       "diffInserts": [],
       "displayType": "redashChart",
       "error": null,
       "errorSummary": null,
       "errorTraceType": null,
       "finishTime": 0,
       "globalVars": {},
       "guid": "",
       "height": "auto",
       "hideCommandCode": false,
       "hideCommandResult": false,
       "iPythonMetadata": null,
       "inputWidgets": {},
       "isLockedInExamMode": false,
       "latestUser": "a user",
       "latestUserId": null,
       "listResultMetadata": null,
       "metadata": {
        "byteLimit": 2048000,
        "rowLimit": 10000
       },
       "nuid": "d9be2ade-f5a9-4165-a3f0-c2c0e137051b",
       "origId": 0,
       "parentHierarchy": [],
       "pivotAggregation": null,
       "pivotColumns": null,
       "position": 9.0,
       "resultDbfsErrorMessage": null,
       "resultDbfsStatus": "INLINED_IN_TREE",
       "results": null,
       "showCommandTitle": false,
       "startTime": 0,
       "state": "finished",
       "streamStates": {},
       "subcommandOptions": {
        "queryPlan": {
         "selects": [
          {
           "column": "IIT Name",
           "type": "column"
          },
          {
           "column": "2023 QS World",
           "type": "column"
          },
          {
           "column": "2022 QS World",
           "type": "column"
          },
          {
           "column": "2021 QS World",
           "type": "column"
          },
          {
           "column": "2020 QS World",
           "type": "column"
          }
         ]
        }
       },
       "submitTime": 0,
       "subtype": "tableResultSubCmd.visualization",
       "tableResultIndex": 0,
       "useConsistentColors": false,
       "version": "CommandV1",
       "width": "auto",
       "workflows": [],
       "xColumns": null,
       "yColumns": null
      }
     },
     "output_type": "display_data"
    },
    {
     "output_type": "display_data",
     "data": {
      "text/plain": [
       "Databricks visualization. Run in Databricks to view."
      ]
     },
     "metadata": {
      "application/vnd.databricks.v1.subcommand+json": {
       "bindings": {},
       "collapsed": false,
       "command": "display(df)",
       "commandTitle": "2023 QS World",
       "commandType": "auto",
       "commandVersion": 0,
       "commentThread": [],
       "commentsVisible": false,
       "contentSha256Hex": null,
       "customPlotOptions": {
        "redashChart": [
         {
          "key": "type",
          "value": "FUNNEL"
         },
         {
          "key": "options",
          "value": {
           "autoSort": false,
           "itemsLimit": 100,
           "numberFormat": "0,0[.]00",
           "percentFormat": "0[.]00%",
           "percentValuesRange": {
            "max": 1000,
            "min": 0.01
           },
           "sortKeyCol": {
            "colName": "2023 QS World",
            "reverse": false
           },
           "stepCol": {
            "colName": "IIT Name",
            "displayAs": "IIT"
           },
           "valueCol": {
            "colName": "2023 QS World",
            "displayAs": "2023 QS World"
           }
          }
         }
        ]
       },
       "datasetPreviewNameToCmdIdMap": {},
       "diffDeletes": [],
       "diffInserts": [],
       "displayType": "redashChart",
       "error": null,
       "errorSummary": null,
       "errorTraceType": null,
       "finishTime": 0,
       "globalVars": {},
       "guid": "",
       "height": "282",
       "hideCommandCode": false,
       "hideCommandResult": false,
       "iPythonMetadata": null,
       "inputWidgets": {},
       "isLockedInExamMode": false,
       "latestUser": "a user",
       "latestUserId": null,
       "listResultMetadata": null,
       "metadata": {
        "byteLimit": 2048000,
        "rowLimit": 10000
       },
       "nuid": "4d0e291d-32be-4a70-b424-b852b262f247",
       "origId": 0,
       "parentHierarchy": [],
       "pivotAggregation": null,
       "pivotColumns": null,
       "position": 11.0,
       "resultDbfsErrorMessage": null,
       "resultDbfsStatus": "INLINED_IN_TREE",
       "results": null,
       "showCommandTitle": false,
       "startTime": 0,
       "state": "finished",
       "streamStates": {},
       "subcommandOptions": {},
       "submitTime": 0,
       "subtype": "tableResultSubCmd.visualization",
       "tableResultIndex": 0,
       "useConsistentColors": false,
       "version": "CommandV1",
       "width": "auto",
       "workflows": [],
       "xColumns": null,
       "yColumns": null
      }
     },
     "output_type": "display_data"
    },
    {
     "output_type": "display_data",
     "data": {
      "text/plain": [
       "Databricks visualization. Run in Databricks to view."
      ]
     },
     "metadata": {
      "application/vnd.databricks.v1.subcommand+json": {
       "bindings": {},
       "collapsed": false,
       "command": "display(df)",
       "commandTitle": "2022 QS World",
       "commandType": "auto",
       "commandVersion": 0,
       "commentThread": [],
       "commentsVisible": false,
       "contentSha256Hex": null,
       "customPlotOptions": {
        "redashChart": [
         {
          "key": "type",
          "value": "FUNNEL"
         },
         {
          "key": "options",
          "value": {
           "autoSort": false,
           "itemsLimit": 100,
           "numberFormat": "0,0[.]00",
           "percentFormat": "0[.]00%",
           "percentValuesRange": {
            "max": 1000,
            "min": 0.01
           },
           "sortKeyCol": {
            "colName": "2022 QS World",
            "reverse": false
           },
           "stepCol": {
            "colName": "IIT Name",
            "displayAs": "IIT"
           },
           "valueCol": {
            "colName": "2022 QS World",
            "displayAs": "2022 QS World"
           }
          }
         }
        ]
       },
       "datasetPreviewNameToCmdIdMap": {},
       "diffDeletes": [],
       "diffInserts": [],
       "displayType": "redashChart",
       "error": null,
       "errorSummary": null,
       "errorTraceType": null,
       "finishTime": 0,
       "globalVars": {},
       "guid": "",
       "height": "279",
       "hideCommandCode": false,
       "hideCommandResult": false,
       "iPythonMetadata": null,
       "inputWidgets": {},
       "isLockedInExamMode": false,
       "latestUser": "a user",
       "latestUserId": null,
       "listResultMetadata": null,
       "metadata": {
        "byteLimit": 2048000,
        "rowLimit": 10000
       },
       "nuid": "ced517e9-b3b6-432d-9ab9-c13478b46c85",
       "origId": 0,
       "parentHierarchy": [],
       "pivotAggregation": null,
       "pivotColumns": null,
       "position": 12.0,
       "resultDbfsErrorMessage": null,
       "resultDbfsStatus": "INLINED_IN_TREE",
       "results": null,
       "showCommandTitle": false,
       "startTime": 0,
       "state": "finished",
       "streamStates": {},
       "subcommandOptions": {},
       "submitTime": 0,
       "subtype": "tableResultSubCmd.visualization",
       "tableResultIndex": 0,
       "useConsistentColors": false,
       "version": "CommandV1",
       "width": "auto",
       "workflows": [],
       "xColumns": null,
       "yColumns": null
      }
     },
     "output_type": "display_data"
    },
    {
     "output_type": "display_data",
     "data": {
      "text/plain": [
       "Databricks visualization. Run in Databricks to view."
      ]
     },
     "metadata": {
      "application/vnd.databricks.v1.subcommand+json": {
       "bindings": {},
       "collapsed": false,
       "command": "display(df)",
       "commandTitle": "2021 QS World",
       "commandType": "auto",
       "commandVersion": 0,
       "commentThread": [],
       "commentsVisible": false,
       "contentSha256Hex": null,
       "customPlotOptions": {
        "redashChart": [
         {
          "key": "type",
          "value": "FUNNEL"
         },
         {
          "key": "options",
          "value": {
           "autoSort": false,
           "itemsLimit": 100,
           "numberFormat": "0,0[.]00",
           "percentFormat": "0[.]00%",
           "percentValuesRange": {
            "max": 1000,
            "min": 0.01
           },
           "sortKeyCol": {
            "colName": "2021 QS World",
            "reverse": false
           },
           "stepCol": {
            "colName": "IIT Name",
            "displayAs": "IIT"
           },
           "valueCol": {
            "colName": "2021 QS World",
            "displayAs": "2021 QS World"
           }
          }
         }
        ]
       },
       "datasetPreviewNameToCmdIdMap": {},
       "diffDeletes": [],
       "diffInserts": [],
       "displayType": "redashChart",
       "error": null,
       "errorSummary": null,
       "errorTraceType": null,
       "finishTime": 0,
       "globalVars": {},
       "guid": "",
       "height": "287",
       "hideCommandCode": false,
       "hideCommandResult": false,
       "iPythonMetadata": null,
       "inputWidgets": {},
       "isLockedInExamMode": false,
       "latestUser": "a user",
       "latestUserId": null,
       "listResultMetadata": null,
       "metadata": {
        "byteLimit": 2048000,
        "rowLimit": 10000
       },
       "nuid": "b7858130-31c6-4435-9571-77157709a249",
       "origId": 0,
       "parentHierarchy": [],
       "pivotAggregation": null,
       "pivotColumns": null,
       "position": 13.0,
       "resultDbfsErrorMessage": null,
       "resultDbfsStatus": "INLINED_IN_TREE",
       "results": null,
       "showCommandTitle": false,
       "startTime": 0,
       "state": "finished",
       "streamStates": {},
       "subcommandOptions": {},
       "submitTime": 0,
       "subtype": "tableResultSubCmd.visualization",
       "tableResultIndex": 0,
       "useConsistentColors": false,
       "version": "CommandV1",
       "width": "auto",
       "workflows": [],
       "xColumns": null,
       "yColumns": null
      }
     },
     "output_type": "display_data"
    },
    {
     "output_type": "display_data",
     "data": {
      "text/plain": [
       "Databricks visualization. Run in Databricks to view."
      ]
     },
     "metadata": {
      "application/vnd.databricks.v1.subcommand+json": {
       "bindings": {},
       "collapsed": false,
       "command": "display(df)",
       "commandTitle": "2020 QS World",
       "commandType": "auto",
       "commandVersion": 0,
       "commentThread": [],
       "commentsVisible": false,
       "contentSha256Hex": null,
       "customPlotOptions": {
        "redashChart": [
         {
          "key": "type",
          "value": "FUNNEL"
         },
         {
          "key": "options",
          "value": {
           "autoSort": false,
           "itemsLimit": 100,
           "numberFormat": "0,0[.]00",
           "percentFormat": "0[.]00%",
           "percentValuesRange": {
            "max": 1000,
            "min": 0.01
           },
           "sortKeyCol": {
            "colName": "2020 QS World",
            "reverse": false
           },
           "stepCol": {
            "colName": "IIT Name",
            "displayAs": "IIT"
           },
           "valueCol": {
            "colName": "2020 QS World",
            "displayAs": "2020 QS World"
           }
          }
         }
        ]
       },
       "datasetPreviewNameToCmdIdMap": {},
       "diffDeletes": [],
       "diffInserts": [],
       "displayType": "redashChart",
       "error": null,
       "errorSummary": null,
       "errorTraceType": null,
       "finishTime": 0,
       "globalVars": {},
       "guid": "",
       "height": "222",
       "hideCommandCode": false,
       "hideCommandResult": false,
       "iPythonMetadata": null,
       "inputWidgets": {},
       "isLockedInExamMode": false,
       "latestUser": "a user",
       "latestUserId": null,
       "listResultMetadata": null,
       "metadata": {
        "byteLimit": 2048000,
        "rowLimit": 10000
       },
       "nuid": "7ea5a37b-ea76-457b-a170-9679016a1713",
       "origId": 0,
       "parentHierarchy": [],
       "pivotAggregation": null,
       "pivotColumns": null,
       "position": 14.0,
       "resultDbfsErrorMessage": null,
       "resultDbfsStatus": "INLINED_IN_TREE",
       "results": null,
       "showCommandTitle": false,
       "startTime": 0,
       "state": "finished",
       "streamStates": {},
       "subcommandOptions": {},
       "submitTime": 0,
       "subtype": "tableResultSubCmd.visualization",
       "tableResultIndex": 0,
       "useConsistentColors": false,
       "version": "CommandV1",
       "width": "auto",
       "workflows": [],
       "xColumns": null,
       "yColumns": null
      }
     },
     "output_type": "display_data"
    }
   ],
   "source": [
    "display(df)"
   ]
  },
  {
   "cell_type": "code",
   "execution_count": 0,
   "metadata": {
    "application/vnd.databricks.v1+cell": {
     "cellMetadata": {
      "byteLimit": 2048000,
      "rowLimit": 10000
     },
     "inputWidgets": {},
     "nuid": "e6b6f3bd-fa36-4252-87fc-a264f14bf18b",
     "showTitle": false,
     "title": ""
    }
   },
   "outputs": [],
   "source": []
  }
 ],
 "metadata": {
  "application/vnd.databricks.v1+notebook": {
   "dashboards": [
    {
     "elements": [
      {
       "dashboardResultIndex": null,
       "elementNUID": "d9be2ade-f5a9-4165-a3f0-c2c0e137051b",
       "elementType": "command",
       "guid": "25e4a292-f950-421c-bea2-6d5a9ac24c92",
       "options": null,
       "position": {
        "height": 6,
        "width": 24,
        "x": 0,
        "y": 0,
        "z": null
       },
       "resultIndex": null
      },
      {
       "dashboardResultIndex": null,
       "elementNUID": "d6a36af7-358c-4a2c-9093-aea0cf1fe3e8",
       "elementType": "command",
       "guid": "270516b5-4ce8-43ae-9b42-5f94ff9df031",
       "options": null,
       "position": {
        "height": 5,
        "width": 24,
        "x": 0,
        "y": 6,
        "z": null
       },
       "resultIndex": null
      },
      {
       "dashboardResultIndex": null,
       "elementNUID": "e84dd747-6f54-4d6b-8e9e-999953808d23",
       "elementType": "command",
       "guid": "2a4f68cb-4b18-4198-a346-284c26484119",
       "options": null,
       "position": {
        "height": 6,
        "width": 12,
        "x": 12,
        "y": 11,
        "z": null
       },
       "resultIndex": null
      },
      {
       "dashboardResultIndex": null,
       "elementNUID": "b7858130-31c6-4435-9571-77157709a249",
       "elementType": "command",
       "guid": "305be16c-19d1-468b-9b40-1573c092e7bf",
       "options": null,
       "position": {
        "height": 6,
        "width": 12,
        "x": 12,
        "y": 29,
        "z": null
       },
       "resultIndex": null
      },
      {
       "dashboardResultIndex": 0,
       "elementNUID": "8185e34b-4d29-4723-ac06-b7e37f8e0db7",
       "elementType": "command",
       "guid": "5d71710c-f185-4772-b297-453c0af75341",
       "options": null,
       "position": {
        "height": 6,
        "width": 12,
        "x": 0,
        "y": 29,
        "z": null
       },
       "resultIndex": null
      },
      {
       "dashboardResultIndex": null,
       "elementNUID": "d98b5f12-2d04-4db1-ba30-f7094f273ae2",
       "elementType": "command",
       "guid": "9316e0f7-ddb5-4966-8b72-ad787617a90f",
       "options": null,
       "position": {
        "height": 6,
        "width": 12,
        "x": 12,
        "y": 35,
        "z": null
       },
       "resultIndex": null
      },
      {
       "dashboardResultIndex": null,
       "elementNUID": "7ea5a37b-ea76-457b-a170-9679016a1713",
       "elementType": "command",
       "guid": "94b4ade1-a026-4098-8e60-305c0ef5a4ac",
       "options": null,
       "position": {
        "height": 6,
        "width": 12,
        "x": 12,
        "y": 41,
        "z": null
       },
       "resultIndex": null
      },
      {
       "dashboardResultIndex": null,
       "elementNUID": "40f552a3-dc64-46af-ab18-a3c8e75a895e",
       "elementType": "command",
       "guid": "a38024b0-3b8b-4515-95d0-f42c3fe5aab0",
       "options": null,
       "position": {
        "height": 6,
        "width": 12,
        "x": 0,
        "y": 35,
        "z": null
       },
       "resultIndex": null
      },
      {
       "dashboardResultIndex": null,
       "elementNUID": "daf5d178-2c9c-4da0-a729-d9c6d094cdfe",
       "elementType": "command",
       "guid": "ba71a4f0-dd3b-45ad-ad08-bfbe4a0ab9b2",
       "options": null,
       "position": {
        "height": 6,
        "width": 12,
        "x": 0,
        "y": 11,
        "z": null
       },
       "resultIndex": null
      },
      {
       "dashboardResultIndex": null,
       "elementNUID": "4d0e291d-32be-4a70-b424-b852b262f247",
       "elementType": "command",
       "guid": "c5cc75b5-bee1-4096-a277-389ac3263d4f",
       "options": null,
       "position": {
        "height": 6,
        "width": 12,
        "x": 12,
        "y": 23,
        "z": null
       },
       "resultIndex": null
      },
      {
       "dashboardResultIndex": null,
       "elementNUID": "b96fb3a0-679e-493e-9730-d3968ddbb0b5",
       "elementType": "command",
       "guid": "e3999753-a87c-420a-a75b-9b1b7e6e6f35",
       "options": null,
       "position": {
        "height": 6,
        "width": 12,
        "x": 12,
        "y": 17,
        "z": null
       },
       "resultIndex": null
      },
      {
       "dashboardResultIndex": null,
       "elementNUID": "ced517e9-b3b6-432d-9ab9-c13478b46c85",
       "elementType": "command",
       "guid": "fa18c07a-a344-4176-8a32-256911ee9c04",
       "options": null,
       "position": {
        "height": 6,
        "width": 12,
        "x": 0,
        "y": 23,
        "z": null
       },
       "resultIndex": null
      },
      {
       "dashboardResultIndex": null,
       "elementNUID": "5990847f-75f3-4fb8-ba97-e711ac20b876",
       "elementType": "command",
       "guid": "fee99d4d-0ebd-4279-80e2-bb3c47fad26f",
       "options": null,
       "position": {
        "height": 6,
        "width": 12,
        "x": 0,
        "y": 17,
        "z": null
       },
       "resultIndex": null
      }
     ],
     "globalVars": {},
     "guid": "",
     "layoutOption": {
      "grid": true,
      "stack": true
     },
     "nuid": "d44426df-bb2b-4f71-a12a-03a8a34d7a7e",
     "origId": 1932534641503547,
     "title": "IIT-Dashboard ",
     "version": "DashboardViewV1",
     "width": 800
    }
   ],
   "language": "python",
   "notebookMetadata": {
    "mostRecentlyExecutedCommandWithImplicitDF": {
     "commandId": 1667608309532335,
     "dataframes": [
      "_sqldf"
     ]
    },
    "pythonIndentUnit": 4
   },
   "notebookName": "DataBricks_Practces_IITs",
   "widgets": {}
  }
 },
 "nbformat": 4,
 "nbformat_minor": 0
}
