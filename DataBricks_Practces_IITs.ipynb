{
 "cells": [
  {
   "cell_type": "code",
   "execution_count": 0,
   "metadata": {
    "application/vnd.databricks.v1+cell": {
     "cellMetadata": {
      "byteLimit": 2048000,
      "rowLimit": 10000
     },
     "inputWidgets": {},
     "nuid": "9a2b9f13-fdd7-4f17-ab51-465d976c1312",
     "showTitle": false,
     "title": ""
    }
   },
   "outputs": [],
   "source": [
    "from pyspark.sql import *\n",
    "from pyspark.sql import SparkSession\n",
    "\n",
    "#FileStore/tables/Practices/IIT/IIT-1.csv"
   ]
  },
  {
   "cell_type": "code",
   "execution_count": 0,
   "metadata": {
    "application/vnd.databricks.v1+cell": {
     "cellMetadata": {
      "byteLimit": 2048000,
      "rowLimit": 10000
     },
     "inputWidgets": {},
     "nuid": "f3659f82-6362-4a45-a630-ae620c0cf0e4",
     "showTitle": false,
     "title": ""
    }
   },
   "outputs": [
    {
     "output_type": "display_data",
     "data": {
      "text/html": [
       "<style scoped>\n",
       "  .table-result-container {\n",
       "    max-height: 300px;\n",
       "    overflow: auto;\n",
       "  }\n",
       "  table, th, td {\n",
       "    border: 1px solid black;\n",
       "    border-collapse: collapse;\n",
       "  }\n",
       "  th, td {\n",
       "    padding: 5px;\n",
       "  }\n",
       "  th {\n",
       "    text-align: left;\n",
       "  }\n",
       "</style><div class='table-result-container'><table class='table-result'><thead style='background-color: white'><tr><th>path</th><th>name</th><th>size</th><th>modificationTime</th></tr></thead><tbody><tr><td>dbfs:/FileStore/tables/Practices/IIT/IIT-1.csv</td><td>IIT-1.csv</td><td>1259</td><td>1698383546000</td></tr></tbody></table></div>"
      ]
     },
     "metadata": {
      "application/vnd.databricks.v1+output": {
       "addedWidgets": {},
       "aggData": [],
       "aggError": "",
       "aggOverflow": false,
       "aggSchema": [],
       "aggSeriesLimitReached": false,
       "aggType": "",
       "arguments": {},
       "columnCustomDisplayInfos": {},
       "data": [
        [
         "dbfs:/FileStore/tables/Practices/IIT/IIT-1.csv",
         "IIT-1.csv",
         1259,
         1698383546000
        ]
       ],
       "datasetInfos": [],
       "dbfsResultPath": null,
       "isJsonSchema": true,
       "metadata": {
        "isDbfsCommandResult": false
       },
       "overflow": false,
       "plotOptions": {
        "customPlotOptions": {},
        "displayType": "table",
        "pivotAggregation": null,
        "pivotColumns": null,
        "xColumns": null,
        "yColumns": null
       },
       "removedWidgets": [],
       "schema": [
        {
         "metadata": "{}",
         "name": "path",
         "type": "\"string\""
        },
        {
         "metadata": "{}",
         "name": "name",
         "type": "\"string\""
        },
        {
         "metadata": "{}",
         "name": "size",
         "type": "\"long\""
        },
        {
         "metadata": "{}",
         "name": "modificationTime",
         "type": "\"long\""
        }
       ],
       "type": "table"
      }
     },
     "output_type": "display_data"
    }
   ],
   "source": [
    "%fs ls /FileStore/tables/Practices/IIT/IIT-1.csv\n"
   ]
  },
  {
   "cell_type": "code",
   "execution_count": 0,
   "metadata": {
    "application/vnd.databricks.v1+cell": {
     "cellMetadata": {
      "byteLimit": 2048000,
      "rowLimit": 10000
     },
     "inputWidgets": {},
     "nuid": "f50204a3-aa42-4ad1-83b0-91a456080e6f",
     "showTitle": false,
     "title": ""
    }
   },
   "outputs": [
    {
     "output_type": "display_data",
     "data": {
      "text/html": [
       "<style scoped>\n",
       "  .table-result-container {\n",
       "    max-height: 300px;\n",
       "    overflow: auto;\n",
       "  }\n",
       "  table, th, td {\n",
       "    border: 1px solid black;\n",
       "    border-collapse: collapse;\n",
       "  }\n",
       "  th, td {\n",
       "    padding: 5px;\n",
       "  }\n",
       "  th {\n",
       "    text-align: left;\n",
       "  }\n",
       "</style><div class='table-result-container'><table class='table-result'><thead style='background-color: white'><tr><th>IIT Name</th><th>2023 NIRF</th><th>2022 NIRF</th><th>2021 NIRF</th><th>2020 NIRF</th><th>2019 NIRF</th><th>2023 QS World</th><th>2022 QS World</th><th>2021 QS World</th><th>2020 QS World</th><th>2022 QS Asia</th><th>2020 QS India</th><th>Times World</th><th>Times Asia</th></tr></thead><tbody><tr><td>IIT Madras</td><td>1</td><td>1</td><td>1</td><td>1</td><td>250</td><td>255</td><td>275</td><td>271</td><td>54</td><td>4</td><td>601</td><td>125</td><td>0</td></tr><tr><td>IIT Bombay</td><td>3</td><td>3</td><td>4</td><td>4</td><td>172</td><td>177</td><td>172</td><td>152</td><td>42</td><td>1</td><td>401</td><td>69</td><td>0</td></tr><tr><td>IIT Delhi</td><td>2</td><td>4</td><td>3</td><td>3</td><td>174</td><td>185</td><td>193</td><td>182</td><td>45</td><td>3</td><td>401</td><td>67</td><td>0</td></tr><tr><td>IIT Kanpur</td><td>4</td><td>5</td><td>6</td><td>6</td><td>264</td><td>277</td><td>350</td><td>291</td><td>64</td><td>6</td><td>601</td><td>125</td><td>0</td></tr><tr><td>IIT Kharagpur</td><td>6</td><td>6</td><td>5</td><td>5</td><td>270</td><td>280</td><td>314</td><td>281</td><td>60</td><td>5</td><td>401</td><td>59</td><td>0</td></tr></tbody></table></div>"
      ]
     },
     "metadata": {
      "application/vnd.databricks.v1+output": {
       "addedWidgets": {},
       "aggData": [],
       "aggError": "",
       "aggOverflow": false,
       "aggSchema": [],
       "aggSeriesLimitReached": false,
       "aggType": "",
       "arguments": {},
       "columnCustomDisplayInfos": {},
       "data": [
        [
         "IIT Madras",
         "1",
         "1",
         "1",
         "1",
         "250",
         "255",
         "275",
         "271",
         "54",
         "4",
         "601",
         "125",
         "0"
        ],
        [
         "IIT Bombay",
         "3",
         "3",
         "4",
         "4",
         "172",
         "177",
         "172",
         "152",
         "42",
         "1",
         "401",
         "69",
         "0"
        ],
        [
         "IIT Delhi",
         "2",
         "4",
         "3",
         "3",
         "174",
         "185",
         "193",
         "182",
         "45",
         "3",
         "401",
         "67",
         "0"
        ],
        [
         "IIT Kanpur",
         "4",
         "5",
         "6",
         "6",
         "264",
         "277",
         "350",
         "291",
         "64",
         "6",
         "601",
         "125",
         "0"
        ],
        [
         "IIT Kharagpur",
         "6",
         "6",
         "5",
         "5",
         "270",
         "280",
         "314",
         "281",
         "60",
         "5",
         "401",
         "59",
         "0"
        ]
       ],
       "datasetInfos": [],
       "dbfsResultPath": null,
       "isJsonSchema": true,
       "metadata": {},
       "overflow": false,
       "plotOptions": {
        "customPlotOptions": {},
        "displayType": "table",
        "pivotAggregation": null,
        "pivotColumns": null,
        "xColumns": null,
        "yColumns": null
       },
       "removedWidgets": [],
       "schema": [
        {
         "metadata": "{}",
         "name": "IIT Name",
         "type": "\"string\""
        },
        {
         "metadata": "{}",
         "name": "2023 NIRF",
         "type": "\"string\""
        },
        {
         "metadata": "{}",
         "name": "2022 NIRF",
         "type": "\"string\""
        },
        {
         "metadata": "{}",
         "name": "2021 NIRF",
         "type": "\"string\""
        },
        {
         "metadata": "{}",
         "name": "2020 NIRF",
         "type": "\"string\""
        },
        {
         "metadata": "{}",
         "name": "2019 NIRF",
         "type": "\"string\""
        },
        {
         "metadata": "{}",
         "name": "2023 QS World",
         "type": "\"string\""
        },
        {
         "metadata": "{}",
         "name": "2022 QS World",
         "type": "\"string\""
        },
        {
         "metadata": "{}",
         "name": "2021 QS World",
         "type": "\"string\""
        },
        {
         "metadata": "{}",
         "name": "2020 QS World",
         "type": "\"string\""
        },
        {
         "metadata": "{}",
         "name": "2022 QS Asia",
         "type": "\"string\""
        },
        {
         "metadata": "{}",
         "name": "2020 QS India",
         "type": "\"string\""
        },
        {
         "metadata": "{}",
         "name": "Times World",
         "type": "\"string\""
        },
        {
         "metadata": "{}",
         "name": "Times Asia",
         "type": "\"string\""
        }
       ],
       "type": "table"
      }
     },
     "output_type": "display_data"
    }
   ],
   "source": [
    "df_maindata = spark.read.csv('dbfs:/FileStore/tables/Practices/IIT/IIT-1.csv',header=True)\n",
    "display(df_maindata.limit(5))"
   ]
  },
  {
   "cell_type": "code",
   "execution_count": 0,
   "metadata": {
    "application/vnd.databricks.v1+cell": {
     "cellMetadata": {
      "byteLimit": 2048000,
      "rowLimit": 10000
     },
     "inputWidgets": {},
     "nuid": "63bd78ae-c0f5-4d05-b951-e4a4a8227286",
     "showTitle": false,
     "title": ""
    }
   },
   "outputs": [
    {
     "output_type": "display_data",
     "data": {
      "text/html": [
       "<style scoped>\n",
       "  .table-result-container {\n",
       "    max-height: 300px;\n",
       "    overflow: auto;\n",
       "  }\n",
       "  table, th, td {\n",
       "    border: 1px solid black;\n",
       "    border-collapse: collapse;\n",
       "  }\n",
       "  th, td {\n",
       "    padding: 5px;\n",
       "  }\n",
       "  th {\n",
       "    text-align: left;\n",
       "  }\n",
       "</style><div class='table-result-container'><table class='table-result'><thead style='background-color: white'><tr><th>IIT Name</th><th>2023 NIRF</th><th>2022 NIRF</th><th>2021 NIRF</th><th>2020 NIRF</th><th>2019 NIRF</th><th>2023 QS World</th><th>2022 QS World</th><th>2021 QS World</th><th>2020 QS World</th><th>2022 QS Asia</th><th>2020 QS India</th><th>Times World</th><th>Times Asia</th></tr></thead><tbody><tr><td>IIT Hyderabad</td><td>8</td><td>16</td><td>17</td><td>22</td><td>581</td><td>0</td><td>0</td><td>0</td><td>224</td><td>15</td><td>601</td><td>144</td><td>0</td></tr><tr><td>IIT Tirupati</td><td>59</td><td>0</td><td>0</td><td>0</td><td>0</td><td>0</td><td>0</td><td>0</td><td>0</td><td>0</td><td>0</td><td>0</td><td>0</td></tr><tr><td>IIT Kanpur</td><td>4</td><td>5</td><td>6</td><td>6</td><td>264</td><td>277</td><td>350</td><td>291</td><td>64</td><td>6</td><td>601</td><td>125</td><td>0</td></tr><tr><td>IIT Gandhinagar</td><td>18</td><td>33</td><td>35</td><td>51</td><td>0</td><td>0</td><td>0</td><td>0</td><td>301</td><td>0</td><td>601</td><td>0</td><td>0</td></tr><tr><td>IIT Madras</td><td>1</td><td>1</td><td>1</td><td>1</td><td>250</td><td>255</td><td>275</td><td>271</td><td>54</td><td>4</td><td>601</td><td>125</td><td>0</td></tr><tr><td>IIT Ropar</td><td>22</td><td>31</td><td>39</td><td>29</td><td>0</td><td>0</td><td>0</td><td>0</td><td>261</td><td>25</td><td>351</td><td>55</td><td>0</td></tr><tr><td>IIT Delhi</td><td>2</td><td>4</td><td>3</td><td>3</td><td>174</td><td>185</td><td>193</td><td>182</td><td>45</td><td>3</td><td>401</td><td>67</td><td>0</td></tr><tr><td>IIT Guwahati</td><td>7</td><td>8</td><td>7</td><td>9</td><td>384</td><td>395</td><td>470</td><td>491</td><td>119</td><td>10</td><td>601</td><td>160</td><td>0</td></tr><tr><td>IIT (BHU) Varanasi</td><td>15</td><td>28</td><td>26</td><td>28</td><td>0</td><td>0</td><td>0</td><td>0</td><td>281</td><td>0</td><td>0</td><td>0</td><td>0</td></tr><tr><td>IIT Goa</td><td>0</td><td>0</td><td>0</td><td>0</td><td>0</td><td>0</td><td>0</td><td>0</td><td>0</td><td>0</td><td>0</td><td>0</td><td>0</td></tr><tr><td>IIT Jodhpur</td><td>30</td><td>0</td><td>0</td><td>0</td><td>0</td><td>0</td><td>0</td><td>0</td><td>0</td><td>0</td><td>0</td><td>0</td><td>0</td></tr><tr><td>IIT Bhubaneswar</td><td>47</td><td>58</td><td>56</td><td>46</td><td>801</td><td>0</td><td>0</td><td>0</td><td>251</td><td>20</td><td>1001</td><td>251</td><td>0</td></tr><tr><td>IIT Jammu</td><td>67</td><td>0</td><td>0</td><td>0</td><td>0</td><td>0</td><td>0</td><td>0</td><td>0</td><td>0</td><td>0</td><td>0</td><td>0</td></tr><tr><td>IIT Palakkad</td><td>69</td><td>0</td><td>0</td><td>0</td><td>0</td><td>0</td><td>0</td><td>0</td><td>0</td><td>0</td><td>0</td><td>0</td><td>0</td></tr><tr><td>IIT Roorkee</td><td>5</td><td>7</td><td>9</td><td>8</td><td>369</td><td>400</td><td>383</td><td>383</td><td>109</td><td>9</td><td>501</td><td>83</td><td>0</td></tr><tr><td>IIT (ISM) Dhanbad</td><td>17</td><td>26</td><td>22</td><td>25</td><td>0</td><td>0</td><td>0</td><td>0</td><td>251</td><td>46</td><td>1001</td><td>201</td><td>0</td></tr><tr><td>IIT Mandi</td><td>33</td><td>82</td><td>67</td><td>44</td><td>0</td><td>0</td><td>0</td><td>0</td><td>0</td><td>0</td><td>1001</td><td>0</td><td>0</td></tr><tr><td>IIT Patna</td><td>41</td><td>51</td><td>54</td><td>58</td><td>0</td><td>0</td><td>0</td><td>0</td><td>301</td><td>36</td><td>801</td><td>301</td><td>0</td></tr><tr><td>IIT Indore</td><td>14</td><td>30</td><td>23</td><td>0</td><td>396</td><td>0</td><td>0</td><td>0</td><td>178</td><td>13</td><td>401</td><td>78</td><td>0</td></tr><tr><td>IIT Bhilai</td><td>81</td><td>0</td><td>0</td><td>0</td><td>0</td><td>0</td><td>0</td><td>0</td><td>0</td><td>0</td><td>0</td><td>0</td><td>0</td></tr><tr><td>IIT Bombay</td><td>3</td><td>3</td><td>4</td><td>4</td><td>172</td><td>177</td><td>172</td><td>152</td><td>42</td><td>1</td><td>401</td><td>69</td><td>0</td></tr><tr><td>IIT Kharagpur</td><td>6</td><td>6</td><td>5</td><td>5</td><td>270</td><td>280</td><td>314</td><td>281</td><td>60</td><td>5</td><td>401</td><td>59</td><td>0</td></tr><tr><td>IIT Dharwad</td><td>93</td><td>0</td><td>0</td><td>0</td><td>0</td><td>0</td><td>0</td><td>0</td><td>0</td><td>0</td><td>0</td><td>0</td><td>0</td></tr></tbody></table></div>"
      ]
     },
     "metadata": {
      "application/vnd.databricks.v1+output": {
       "addedWidgets": {},
       "aggData": [],
       "aggError": "",
       "aggOverflow": false,
       "aggSchema": [],
       "aggSeriesLimitReached": false,
       "aggType": "",
       "arguments": {},
       "columnCustomDisplayInfos": {},
       "data": [
        [
         "IIT Hyderabad",
         "8",
         "16",
         "17",
         "22",
         "581",
         "0",
         "0",
         "0",
         "224",
         "15",
         "601",
         "144",
         "0"
        ],
        [
         "IIT Tirupati",
         "59",
         "0",
         "0",
         "0",
         "0",
         "0",
         "0",
         "0",
         "0",
         "0",
         "0",
         "0",
         "0"
        ],
        [
         "IIT Kanpur",
         "4",
         "5",
         "6",
         "6",
         "264",
         "277",
         "350",
         "291",
         "64",
         "6",
         "601",
         "125",
         "0"
        ],
        [
         "IIT Gandhinagar",
         "18",
         "33",
         "35",
         "51",
         "0",
         "0",
         "0",
         "0",
         "301",
         "0",
         "601",
         "0",
         "0"
        ],
        [
         "IIT Madras",
         "1",
         "1",
         "1",
         "1",
         "250",
         "255",
         "275",
         "271",
         "54",
         "4",
         "601",
         "125",
         "0"
        ],
        [
         "IIT Ropar",
         "22",
         "31",
         "39",
         "29",
         "0",
         "0",
         "0",
         "0",
         "261",
         "25",
         "351",
         "55",
         "0"
        ],
        [
         "IIT Delhi",
         "2",
         "4",
         "3",
         "3",
         "174",
         "185",
         "193",
         "182",
         "45",
         "3",
         "401",
         "67",
         "0"
        ],
        [
         "IIT Guwahati",
         "7",
         "8",
         "7",
         "9",
         "384",
         "395",
         "470",
         "491",
         "119",
         "10",
         "601",
         "160",
         "0"
        ],
        [
         "IIT (BHU) Varanasi",
         "15",
         "28",
         "26",
         "28",
         "0",
         "0",
         "0",
         "0",
         "281",
         "0",
         "0",
         "0",
         "0"
        ],
        [
         "IIT Goa",
         "0",
         "0",
         "0",
         "0",
         "0",
         "0",
         "0",
         "0",
         "0",
         "0",
         "0",
         "0",
         "0"
        ],
        [
         "IIT Jodhpur",
         "30",
         "0",
         "0",
         "0",
         "0",
         "0",
         "0",
         "0",
         "0",
         "0",
         "0",
         "0",
         "0"
        ],
        [
         "IIT Bhubaneswar",
         "47",
         "58",
         "56",
         "46",
         "801",
         "0",
         "0",
         "0",
         "251",
         "20",
         "1001",
         "251",
         "0"
        ],
        [
         "IIT Jammu",
         "67",
         "0",
         "0",
         "0",
         "0",
         "0",
         "0",
         "0",
         "0",
         "0",
         "0",
         "0",
         "0"
        ],
        [
         "IIT Palakkad",
         "69",
         "0",
         "0",
         "0",
         "0",
         "0",
         "0",
         "0",
         "0",
         "0",
         "0",
         "0",
         "0"
        ],
        [
         "IIT Roorkee",
         "5",
         "7",
         "9",
         "8",
         "369",
         "400",
         "383",
         "383",
         "109",
         "9",
         "501",
         "83",
         "0"
        ],
        [
         "IIT (ISM) Dhanbad",
         "17",
         "26",
         "22",
         "25",
         "0",
         "0",
         "0",
         "0",
         "251",
         "46",
         "1001",
         "201",
         "0"
        ],
        [
         "IIT Mandi",
         "33",
         "82",
         "67",
         "44",
         "0",
         "0",
         "0",
         "0",
         "0",
         "0",
         "1001",
         "0",
         "0"
        ],
        [
         "IIT Patna",
         "41",
         "51",
         "54",
         "58",
         "0",
         "0",
         "0",
         "0",
         "301",
         "36",
         "801",
         "301",
         "0"
        ],
        [
         "IIT Indore",
         "14",
         "30",
         "23",
         "0",
         "396",
         "0",
         "0",
         "0",
         "178",
         "13",
         "401",
         "78",
         "0"
        ],
        [
         "IIT Bhilai",
         "81",
         "0",
         "0",
         "0",
         "0",
         "0",
         "0",
         "0",
         "0",
         "0",
         "0",
         "0",
         "0"
        ],
        [
         "IIT Bombay",
         "3",
         "3",
         "4",
         "4",
         "172",
         "177",
         "172",
         "152",
         "42",
         "1",
         "401",
         "69",
         "0"
        ],
        [
         "IIT Kharagpur",
         "6",
         "6",
         "5",
         "5",
         "270",
         "280",
         "314",
         "281",
         "60",
         "5",
         "401",
         "59",
         "0"
        ],
        [
         "IIT Dharwad",
         "93",
         "0",
         "0",
         "0",
         "0",
         "0",
         "0",
         "0",
         "0",
         "0",
         "0",
         "0",
         "0"
        ]
       ],
       "datasetInfos": [],
       "dbfsResultPath": null,
       "isJsonSchema": true,
       "metadata": {},
       "overflow": false,
       "plotOptions": {
        "customPlotOptions": {},
        "displayType": "table",
        "pivotAggregation": null,
        "pivotColumns": null,
        "xColumns": null,
        "yColumns": null
       },
       "removedWidgets": [],
       "schema": [
        {
         "metadata": "{}",
         "name": "IIT Name",
         "type": "\"string\""
        },
        {
         "metadata": "{}",
         "name": "2023 NIRF",
         "type": "\"string\""
        },
        {
         "metadata": "{}",
         "name": "2022 NIRF",
         "type": "\"string\""
        },
        {
         "metadata": "{}",
         "name": "2021 NIRF",
         "type": "\"string\""
        },
        {
         "metadata": "{}",
         "name": "2020 NIRF",
         "type": "\"string\""
        },
        {
         "metadata": "{}",
         "name": "2019 NIRF",
         "type": "\"string\""
        },
        {
         "metadata": "{}",
         "name": "2023 QS World",
         "type": "\"string\""
        },
        {
         "metadata": "{}",
         "name": "2022 QS World",
         "type": "\"string\""
        },
        {
         "metadata": "{}",
         "name": "2021 QS World",
         "type": "\"string\""
        },
        {
         "metadata": "{}",
         "name": "2020 QS World",
         "type": "\"string\""
        },
        {
         "metadata": "{}",
         "name": "2022 QS Asia",
         "type": "\"string\""
        },
        {
         "metadata": "{}",
         "name": "2020 QS India",
         "type": "\"string\""
        },
        {
         "metadata": "{}",
         "name": "Times World",
         "type": "\"string\""
        },
        {
         "metadata": "{}",
         "name": "Times Asia",
         "type": "\"string\""
        }
       ],
       "type": "table"
      }
     },
     "output_type": "display_data"
    },
    {
     "output_type": "display_data",
     "data": {
      "text/plain": [
       "Databricks visualization. Run in Databricks to view."
      ]
     },
     "metadata": {
      "application/vnd.databricks.v1.subcommand+json": {
       "bindings": {},
       "collapsed": false,
       "command": "%python\n__backend_agg_display_orig = display\n__backend_agg_dfs = []\ndef __backend_agg_display_new(df):\n    __backend_agg_df_modules = [\"pandas.core.frame\", \"databricks.koalas.frame\", \"pyspark.sql.dataframe\", \"pyspark.pandas.frame\", \"pyspark.sql.connect.dataframe\"]\n    if (type(df).__module__ in __backend_agg_df_modules and type(df).__name__ == 'DataFrame') or isinstance(df, list):\n        __backend_agg_dfs.append(df)\n\ndisplay = __backend_agg_display_new\n\ndef __backend_agg_user_code_fn():\n    import base64\n    exec(base64.standard_b64decode(\"ZGYgPSBkZl9tYWluZGF0YS5kaXN0aW5jdCgpCmRpc3BsYXkoZGYp\").decode())\n\ntry:\n    # run user code\n    __backend_agg_user_code_fn()\n\n    #reset display function\n    display = __backend_agg_display_orig\n\n    if len(__backend_agg_dfs) > 0:\n        # create a temp view\n        if type(__backend_agg_dfs[0]).__module__ == \"databricks.koalas.frame\":\n            # koalas dataframe\n            __backend_agg_dfs[0].to_spark().createOrReplaceTempView(\"DatabricksView98f4a17\")\n        elif type(__backend_agg_dfs[0]).__module__ == \"pandas.core.frame\" or isinstance(__backend_agg_dfs[0], list):\n            # pandas dataframe\n            spark.createDataFrame(__backend_agg_dfs[0]).createOrReplaceTempView(\"DatabricksView98f4a17\")\n        else:\n            __backend_agg_dfs[0].createOrReplaceTempView(\"DatabricksView98f4a17\")\n        #run backend agg\n        display(spark.sql(\"\"\"WITH q AS (select * from DatabricksView98f4a17) SELECT `IIT Name`,`2021 NIRF`,`2022 NIRF`,`2023 NIRF`,`IIT Name`,`IIT Name` FROM q\"\"\"))\n    else:\n        displayHTML(\"dataframe no longer exists. If you're using dataframe.display(), use display(dataframe) instead.\")\n\n\nfinally:\n    spark.sql(\"drop view if exists DatabricksView98f4a17\")\n    display = __backend_agg_display_orig\n    del __backend_agg_display_new\n    del __backend_agg_display_orig\n    del __backend_agg_dfs\n    del __backend_agg_user_code_fn\n\n",
       "commandTitle": "NIRF Comparision",
       "commandType": "auto",
       "commandVersion": 0,
       "commentThread": [],
       "commentsVisible": false,
       "contentSha256Hex": null,
       "customPlotOptions": {
        "redashChart": [
         {
          "key": "type",
          "value": "CHART"
         },
         {
          "key": "options",
          "value": {
           "alignYAxesAtZero": true,
           "coefficient": 2,
           "columnConfigurationMap": {
            "series": {
             "column": "IIT Name",
             "id": "column_c45f2157185"
            },
            "size": {
             "column": "IIT Name",
             "id": "column_c45f2157187"
            },
            "x": {
             "column": "IIT Name",
             "id": "column_c45f2157159"
            },
            "y": [
             {
              "column": "2021 NIRF",
              "id": "column_c45f2157172"
             },
             {
              "column": "2022 NIRF",
              "id": "column_c45f2157173"
             },
             {
              "column": "2023 NIRF",
              "id": "column_c45f2157174"
             }
            ]
           },
           "dateTimeFormat": "DD/MM/YYYY HH:mm",
           "direction": {
            "type": "counterclockwise"
           },
           "error_y": {
            "type": "data",
            "visible": true
           },
           "globalSeriesType": "bubble",
           "hideXAxis": false,
           "hideYAxes": false,
           "legend": {
            "enabled": false,
            "traceorder": "normal"
           },
           "missingValuesAsZero": true,
           "numBins": 10,
           "numberFormat": "0,0[.]00000",
           "percentFormat": "0[.]00%",
           "reverseX": false,
           "series": {
            "error_y": {
             "type": "data",
             "visible": true
            },
            "stacking": null
           },
           "seriesOptions": {
            "2021 NIRF": {
             "type": "bubble",
             "yAxis": 0
            },
            "2022 NIRF": {
             "type": "bubble",
             "yAxis": 0
            },
            "2023 NIRF": {
             "type": "bubble",
             "yAxis": 0
            },
            "column_c45f2157153": {
             "type": "bubble",
             "yAxis": 0
            },
            "column_c45f2157154": {
             "type": "bubble",
             "yAxis": 0
            },
            "column_c45f2157172": {
             "type": "bubble",
             "yAxis": 0
            },
            "column_c45f2157173": {
             "type": "bubble",
             "yAxis": 0
            },
            "column_c45f2157174": {
             "type": "bubble",
             "yAxis": 0
            }
           },
           "showDataLabels": false,
           "sizemode": "diameter",
           "sortX": true,
           "sortY": true,
           "swappedAxes": false,
           "textFormat": "",
           "useAggregationsUi": true,
           "valuesOptions": {},
           "version": 2,
           "xAxis": {
            "labels": {
             "enabled": true
            },
            "title": {
             "text": "IIT Name"
            },
            "type": "-"
           },
           "yAxis": [
            {
             "title": {
              "text": "2023 NIRF"
             },
             "type": "linear"
            },
            {
             "opposite": true,
             "title": {
              "text": null
             },
             "type": "-"
            }
           ]
          }
         }
        ]
       },
       "datasetPreviewNameToCmdIdMap": {},
       "diffDeletes": [],
       "diffInserts": [],
       "displayType": "redashChart",
       "error": null,
       "errorSummary": null,
       "errorTraceType": null,
       "finishTime": 1698388633856,
       "globalVars": {},
       "guid": "",
       "height": "auto",
       "hideCommandCode": false,
       "hideCommandResult": false,
       "iPythonMetadata": null,
       "inputWidgets": {},
       "isLockedInExamMode": false,
       "latestUser": "a user",
       "latestUserId": null,
       "listResultMetadata": [
        [
         "table",
         23
        ]
       ],
       "metadata": {
        "byteLimit": 2048000,
        "rowLimit": 10000
       },
       "nuid": "aef1af8d-0017-4c36-b4fd-5bd39a7931e9",
       "origId": 0,
       "parentHierarchy": [],
       "pivotAggregation": null,
       "pivotColumns": null,
       "position": 4.5,
       "resultDbfsErrorMessage": null,
       "resultDbfsStatus": "INLINED_IN_TREE",
       "results": {
        "addedWidgets": {},
        "arguments": {},
        "data": [
         {
          "addedWidgets": {},
          "aggData": [],
          "aggError": "",
          "aggOverflow": false,
          "aggSchema": [],
          "aggSeriesLimitReached": false,
          "aggType": "",
          "arguments": {},
          "columnCustomDisplayInfos": {},
          "data": [
           [
            "IIT Hyderabad",
            "17",
            "16",
            "8",
            "IIT Hyderabad",
            "IIT Hyderabad"
           ],
           [
            "IIT Tirupati",
            "0",
            "0",
            "59",
            "IIT Tirupati",
            "IIT Tirupati"
           ],
           [
            "IIT Kanpur",
            "6",
            "5",
            "4",
            "IIT Kanpur",
            "IIT Kanpur"
           ],
           [
            "IIT Gandhinagar",
            "35",
            "33",
            "18",
            "IIT Gandhinagar",
            "IIT Gandhinagar"
           ],
           [
            "IIT Madras",
            "1",
            "1",
            "1",
            "IIT Madras",
            "IIT Madras"
           ],
           [
            "IIT Ropar",
            "39",
            "31",
            "22",
            "IIT Ropar",
            "IIT Ropar"
           ],
           [
            "IIT Delhi",
            "3",
            "4",
            "2",
            "IIT Delhi",
            "IIT Delhi"
           ],
           [
            "IIT Guwahati",
            "7",
            "8",
            "7",
            "IIT Guwahati",
            "IIT Guwahati"
           ],
           [
            "IIT (BHU) Varanasi",
            "26",
            "28",
            "15",
            "IIT (BHU) Varanasi",
            "IIT (BHU) Varanasi"
           ],
           [
            "IIT Goa",
            "0",
            "0",
            "0",
            "IIT Goa",
            "IIT Goa"
           ],
           [
            "IIT Jodhpur",
            "0",
            "0",
            "30",
            "IIT Jodhpur",
            "IIT Jodhpur"
           ],
           [
            "IIT Bhubaneswar",
            "56",
            "58",
            "47",
            "IIT Bhubaneswar",
            "IIT Bhubaneswar"
           ],
           [
            "IIT Jammu",
            "0",
            "0",
            "67",
            "IIT Jammu",
            "IIT Jammu"
           ],
           [
            "IIT Palakkad",
            "0",
            "0",
            "69",
            "IIT Palakkad",
            "IIT Palakkad"
           ],
           [
            "IIT Roorkee",
            "9",
            "7",
            "5",
            "IIT Roorkee",
            "IIT Roorkee"
           ],
           [
            "IIT (ISM) Dhanbad",
            "22",
            "26",
            "17",
            "IIT (ISM) Dhanbad",
            "IIT (ISM) Dhanbad"
           ],
           [
            "IIT Mandi",
            "67",
            "82",
            "33",
            "IIT Mandi",
            "IIT Mandi"
           ],
           [
            "IIT Patna",
            "54",
            "51",
            "41",
            "IIT Patna",
            "IIT Patna"
           ],
           [
            "IIT Indore",
            "23",
            "30",
            "14",
            "IIT Indore",
            "IIT Indore"
           ],
           [
            "IIT Bhilai",
            "0",
            "0",
            "81",
            "IIT Bhilai",
            "IIT Bhilai"
           ],
           [
            "IIT Bombay",
            "4",
            "3",
            "3",
            "IIT Bombay",
            "IIT Bombay"
           ],
           [
            "IIT Kharagpur",
            "5",
            "6",
            "6",
            "IIT Kharagpur",
            "IIT Kharagpur"
           ],
           [
            "IIT Dharwad",
            "0",
            "0",
            "93",
            "IIT Dharwad",
            "IIT Dharwad"
           ]
          ],
          "datasetInfos": [],
          "dbfsResultPath": null,
          "isJsonSchema": true,
          "metadata": {},
          "overflow": false,
          "plotOptions": null,
          "removedWidgets": [],
          "schema": [
           {
            "metadata": "{}",
            "name": "IIT Name",
            "type": "\"string\""
           },
           {
            "metadata": "{}",
            "name": "2021 NIRF",
            "type": "\"string\""
           },
           {
            "metadata": "{}",
            "name": "2022 NIRF",
            "type": "\"string\""
           },
           {
            "metadata": "{}",
            "name": "2023 NIRF",
            "type": "\"string\""
           },
           {
            "metadata": "{}",
            "name": "IIT Name",
            "type": "\"string\""
           },
           {
            "metadata": "{}",
            "name": "IIT Name",
            "type": "\"string\""
           }
          ],
          "type": "table"
         }
        ],
        "datasetInfos": [],
        "metadata": {
         "isDbfsCommandResult": false
        },
        "removedWidgets": [],
        "type": "listResults"
       },
       "showCommandTitle": false,
       "startTime": 1698388632965,
       "state": "finished",
       "streamStates": {},
       "subcommandOptions": {
        "queryPlan": {
         "selects": [
          {
           "column": "IIT Name",
           "type": "column"
          },
          {
           "column": "2021 NIRF",
           "type": "column"
          },
          {
           "column": "2022 NIRF",
           "type": "column"
          },
          {
           "column": "2023 NIRF",
           "type": "column"
          },
          {
           "column": "IIT Name",
           "type": "column"
          },
          {
           "column": "IIT Name",
           "type": "column"
          }
         ]
        }
       },
       "submitTime": 1698388627704,
       "subtype": "tableResultSubCmd.visualization",
       "tableResultIndex": 0,
       "useConsistentColors": false,
       "version": "CommandV1",
       "width": "auto",
       "workflows": [],
       "xColumns": null,
       "yColumns": null
      }
     },
     "output_type": "display_data"
    }
   ],
   "source": [
    "df = df_maindata.distinct()\n",
    "display(df)"
   ]
  },
  {
   "cell_type": "code",
   "execution_count": 0,
   "metadata": {
    "application/vnd.databricks.v1+cell": {
     "cellMetadata": {
      "byteLimit": 2048000,
      "rowLimit": 10000
     },
     "inputWidgets": {},
     "nuid": "dcb764b6-1f8b-4ac9-ac78-d8b55044d50d",
     "showTitle": false,
     "title": ""
    }
   },
   "outputs": [
    {
     "output_type": "display_data",
     "data": {
      "text/html": [
       "<style scoped>\n",
       "  .table-result-container {\n",
       "    max-height: 300px;\n",
       "    overflow: auto;\n",
       "  }\n",
       "  table, th, td {\n",
       "    border: 1px solid black;\n",
       "    border-collapse: collapse;\n",
       "  }\n",
       "  th, td {\n",
       "    padding: 5px;\n",
       "  }\n",
       "  th {\n",
       "    text-align: left;\n",
       "  }\n",
       "</style><div class='table-result-container'><table class='table-result'><thead style='background-color: white'><tr><th>IIT Name</th><th>2023 NIRF</th><th>2022 NIRF</th><th>2021 NIRF</th><th>2020 NIRF</th><th>2019 NIRF</th><th>2023 QS World</th><th>2022 QS World</th><th>2021 QS World</th><th>2020 QS World</th><th>2022 QS Asia</th><th>2020 QS India</th><th>Times World</th><th>Times Asia</th></tr></thead><tbody><tr><td>IIT Hyderabad</td><td>8</td><td>16</td><td>17</td><td>22</td><td>581</td><td>0</td><td>0</td><td>0</td><td>224</td><td>15</td><td>601</td><td>144</td><td>0</td></tr><tr><td>IIT Tirupati</td><td>59</td><td>0</td><td>0</td><td>0</td><td>0</td><td>0</td><td>0</td><td>0</td><td>0</td><td>0</td><td>0</td><td>0</td><td>0</td></tr><tr><td>IIT Kanpur</td><td>4</td><td>5</td><td>6</td><td>6</td><td>264</td><td>277</td><td>350</td><td>291</td><td>64</td><td>6</td><td>601</td><td>125</td><td>0</td></tr><tr><td>IIT Gandhinagar</td><td>18</td><td>33</td><td>35</td><td>51</td><td>0</td><td>0</td><td>0</td><td>0</td><td>301</td><td>0</td><td>601</td><td>0</td><td>0</td></tr><tr><td>IIT Madras</td><td>1</td><td>1</td><td>1</td><td>1</td><td>250</td><td>255</td><td>275</td><td>271</td><td>54</td><td>4</td><td>601</td><td>125</td><td>0</td></tr><tr><td>IIT Ropar</td><td>22</td><td>31</td><td>39</td><td>29</td><td>0</td><td>0</td><td>0</td><td>0</td><td>261</td><td>25</td><td>351</td><td>55</td><td>0</td></tr><tr><td>IIT Delhi</td><td>2</td><td>4</td><td>3</td><td>3</td><td>174</td><td>185</td><td>193</td><td>182</td><td>45</td><td>3</td><td>401</td><td>67</td><td>0</td></tr><tr><td>IIT Guwahati</td><td>7</td><td>8</td><td>7</td><td>9</td><td>384</td><td>395</td><td>470</td><td>491</td><td>119</td><td>10</td><td>601</td><td>160</td><td>0</td></tr><tr><td>IIT (BHU) Varanasi</td><td>15</td><td>28</td><td>26</td><td>28</td><td>0</td><td>0</td><td>0</td><td>0</td><td>281</td><td>0</td><td>0</td><td>0</td><td>0</td></tr><tr><td>IIT Goa</td><td>0</td><td>0</td><td>0</td><td>0</td><td>0</td><td>0</td><td>0</td><td>0</td><td>0</td><td>0</td><td>0</td><td>0</td><td>0</td></tr><tr><td>IIT Jodhpur</td><td>30</td><td>0</td><td>0</td><td>0</td><td>0</td><td>0</td><td>0</td><td>0</td><td>0</td><td>0</td><td>0</td><td>0</td><td>0</td></tr><tr><td>IIT Bhubaneswar</td><td>47</td><td>58</td><td>56</td><td>46</td><td>801</td><td>0</td><td>0</td><td>0</td><td>251</td><td>20</td><td>1001</td><td>251</td><td>0</td></tr><tr><td>IIT Jammu</td><td>67</td><td>0</td><td>0</td><td>0</td><td>0</td><td>0</td><td>0</td><td>0</td><td>0</td><td>0</td><td>0</td><td>0</td><td>0</td></tr><tr><td>IIT Palakkad</td><td>69</td><td>0</td><td>0</td><td>0</td><td>0</td><td>0</td><td>0</td><td>0</td><td>0</td><td>0</td><td>0</td><td>0</td><td>0</td></tr><tr><td>IIT Roorkee</td><td>5</td><td>7</td><td>9</td><td>8</td><td>369</td><td>400</td><td>383</td><td>383</td><td>109</td><td>9</td><td>501</td><td>83</td><td>0</td></tr><tr><td>IIT (ISM) Dhanbad</td><td>17</td><td>26</td><td>22</td><td>25</td><td>0</td><td>0</td><td>0</td><td>0</td><td>251</td><td>46</td><td>1001</td><td>201</td><td>0</td></tr><tr><td>IIT Mandi</td><td>33</td><td>82</td><td>67</td><td>44</td><td>0</td><td>0</td><td>0</td><td>0</td><td>0</td><td>0</td><td>1001</td><td>0</td><td>0</td></tr><tr><td>IIT Patna</td><td>41</td><td>51</td><td>54</td><td>58</td><td>0</td><td>0</td><td>0</td><td>0</td><td>301</td><td>36</td><td>801</td><td>301</td><td>0</td></tr><tr><td>IIT Indore</td><td>14</td><td>30</td><td>23</td><td>0</td><td>396</td><td>0</td><td>0</td><td>0</td><td>178</td><td>13</td><td>401</td><td>78</td><td>0</td></tr><tr><td>IIT Bhilai</td><td>81</td><td>0</td><td>0</td><td>0</td><td>0</td><td>0</td><td>0</td><td>0</td><td>0</td><td>0</td><td>0</td><td>0</td><td>0</td></tr><tr><td>IIT Bombay</td><td>3</td><td>3</td><td>4</td><td>4</td><td>172</td><td>177</td><td>172</td><td>152</td><td>42</td><td>1</td><td>401</td><td>69</td><td>0</td></tr><tr><td>IIT Kharagpur</td><td>6</td><td>6</td><td>5</td><td>5</td><td>270</td><td>280</td><td>314</td><td>281</td><td>60</td><td>5</td><td>401</td><td>59</td><td>0</td></tr><tr><td>IIT Dharwad</td><td>93</td><td>0</td><td>0</td><td>0</td><td>0</td><td>0</td><td>0</td><td>0</td><td>0</td><td>0</td><td>0</td><td>0</td><td>0</td></tr></tbody></table></div>"
      ]
     },
     "metadata": {
      "application/vnd.databricks.v1+output": {
       "addedWidgets": {},
       "aggData": [],
       "aggError": "",
       "aggOverflow": false,
       "aggSchema": [],
       "aggSeriesLimitReached": false,
       "aggType": "",
       "arguments": {},
       "columnCustomDisplayInfos": {},
       "data": [
        [
         "IIT Hyderabad",
         "8",
         "16",
         "17",
         "22",
         "581",
         "0",
         "0",
         "0",
         "224",
         "15",
         "601",
         "144",
         "0"
        ],
        [
         "IIT Tirupati",
         "59",
         "0",
         "0",
         "0",
         "0",
         "0",
         "0",
         "0",
         "0",
         "0",
         "0",
         "0",
         "0"
        ],
        [
         "IIT Kanpur",
         "4",
         "5",
         "6",
         "6",
         "264",
         "277",
         "350",
         "291",
         "64",
         "6",
         "601",
         "125",
         "0"
        ],
        [
         "IIT Gandhinagar",
         "18",
         "33",
         "35",
         "51",
         "0",
         "0",
         "0",
         "0",
         "301",
         "0",
         "601",
         "0",
         "0"
        ],
        [
         "IIT Madras",
         "1",
         "1",
         "1",
         "1",
         "250",
         "255",
         "275",
         "271",
         "54",
         "4",
         "601",
         "125",
         "0"
        ],
        [
         "IIT Ropar",
         "22",
         "31",
         "39",
         "29",
         "0",
         "0",
         "0",
         "0",
         "261",
         "25",
         "351",
         "55",
         "0"
        ],
        [
         "IIT Delhi",
         "2",
         "4",
         "3",
         "3",
         "174",
         "185",
         "193",
         "182",
         "45",
         "3",
         "401",
         "67",
         "0"
        ],
        [
         "IIT Guwahati",
         "7",
         "8",
         "7",
         "9",
         "384",
         "395",
         "470",
         "491",
         "119",
         "10",
         "601",
         "160",
         "0"
        ],
        [
         "IIT (BHU) Varanasi",
         "15",
         "28",
         "26",
         "28",
         "0",
         "0",
         "0",
         "0",
         "281",
         "0",
         "0",
         "0",
         "0"
        ],
        [
         "IIT Goa",
         "0",
         "0",
         "0",
         "0",
         "0",
         "0",
         "0",
         "0",
         "0",
         "0",
         "0",
         "0",
         "0"
        ],
        [
         "IIT Jodhpur",
         "30",
         "0",
         "0",
         "0",
         "0",
         "0",
         "0",
         "0",
         "0",
         "0",
         "0",
         "0",
         "0"
        ],
        [
         "IIT Bhubaneswar",
         "47",
         "58",
         "56",
         "46",
         "801",
         "0",
         "0",
         "0",
         "251",
         "20",
         "1001",
         "251",
         "0"
        ],
        [
         "IIT Jammu",
         "67",
         "0",
         "0",
         "0",
         "0",
         "0",
         "0",
         "0",
         "0",
         "0",
         "0",
         "0",
         "0"
        ],
        [
         "IIT Palakkad",
         "69",
         "0",
         "0",
         "0",
         "0",
         "0",
         "0",
         "0",
         "0",
         "0",
         "0",
         "0",
         "0"
        ],
        [
         "IIT Roorkee",
         "5",
         "7",
         "9",
         "8",
         "369",
         "400",
         "383",
         "383",
         "109",
         "9",
         "501",
         "83",
         "0"
        ],
        [
         "IIT (ISM) Dhanbad",
         "17",
         "26",
         "22",
         "25",
         "0",
         "0",
         "0",
         "0",
         "251",
         "46",
         "1001",
         "201",
         "0"
        ],
        [
         "IIT Mandi",
         "33",
         "82",
         "67",
         "44",
         "0",
         "0",
         "0",
         "0",
         "0",
         "0",
         "1001",
         "0",
         "0"
        ],
        [
         "IIT Patna",
         "41",
         "51",
         "54",
         "58",
         "0",
         "0",
         "0",
         "0",
         "301",
         "36",
         "801",
         "301",
         "0"
        ],
        [
         "IIT Indore",
         "14",
         "30",
         "23",
         "0",
         "396",
         "0",
         "0",
         "0",
         "178",
         "13",
         "401",
         "78",
         "0"
        ],
        [
         "IIT Bhilai",
         "81",
         "0",
         "0",
         "0",
         "0",
         "0",
         "0",
         "0",
         "0",
         "0",
         "0",
         "0",
         "0"
        ],
        [
         "IIT Bombay",
         "3",
         "3",
         "4",
         "4",
         "172",
         "177",
         "172",
         "152",
         "42",
         "1",
         "401",
         "69",
         "0"
        ],
        [
         "IIT Kharagpur",
         "6",
         "6",
         "5",
         "5",
         "270",
         "280",
         "314",
         "281",
         "60",
         "5",
         "401",
         "59",
         "0"
        ],
        [
         "IIT Dharwad",
         "93",
         "0",
         "0",
         "0",
         "0",
         "0",
         "0",
         "0",
         "0",
         "0",
         "0",
         "0",
         "0"
        ]
       ],
       "datasetInfos": [],
       "dbfsResultPath": null,
       "isJsonSchema": true,
       "metadata": {},
       "overflow": false,
       "plotOptions": {
        "customPlotOptions": {},
        "displayType": "table",
        "pivotAggregation": null,
        "pivotColumns": null,
        "xColumns": null,
        "yColumns": null
       },
       "removedWidgets": [],
       "schema": [
        {
         "metadata": "{}",
         "name": "IIT Name",
         "type": "\"string\""
        },
        {
         "metadata": "{}",
         "name": "2023 NIRF",
         "type": "\"string\""
        },
        {
         "metadata": "{}",
         "name": "2022 NIRF",
         "type": "\"string\""
        },
        {
         "metadata": "{}",
         "name": "2021 NIRF",
         "type": "\"string\""
        },
        {
         "metadata": "{}",
         "name": "2020 NIRF",
         "type": "\"string\""
        },
        {
         "metadata": "{}",
         "name": "2019 NIRF",
         "type": "\"string\""
        },
        {
         "metadata": "{}",
         "name": "2023 QS World",
         "type": "\"string\""
        },
        {
         "metadata": "{}",
         "name": "2022 QS World",
         "type": "\"string\""
        },
        {
         "metadata": "{}",
         "name": "2021 QS World",
         "type": "\"string\""
        },
        {
         "metadata": "{}",
         "name": "2020 QS World",
         "type": "\"string\""
        },
        {
         "metadata": "{}",
         "name": "2022 QS Asia",
         "type": "\"string\""
        },
        {
         "metadata": "{}",
         "name": "2020 QS India",
         "type": "\"string\""
        },
        {
         "metadata": "{}",
         "name": "Times World",
         "type": "\"string\""
        },
        {
         "metadata": "{}",
         "name": "Times Asia",
         "type": "\"string\""
        }
       ],
       "type": "table"
      }
     },
     "output_type": "display_data"
    },
    {
     "output_type": "display_data",
     "data": {
      "text/plain": [
       "Databricks visualization. Run in Databricks to view."
      ]
     },
     "metadata": {
      "application/vnd.databricks.v1.subcommand+json": {
       "bindings": {},
       "collapsed": false,
       "command": "display(df)",
       "commandTitle": "Visualization 1",
       "commandType": "auto",
       "commandVersion": 0,
       "commentThread": [],
       "commentsVisible": false,
       "contentSha256Hex": null,
       "customPlotOptions": {
        "redashChart": [
         {
          "key": "type",
          "value": "DETAILS"
         },
         {
          "key": "options",
          "value": {
           "columns": [
            {
             "name": "IIT Name",
             "title": "IIT Name",
             "type": "string"
            },
            {
             "name": "2023 NIRF",
             "title": "2023 NIRF",
             "type": "string"
            },
            {
             "name": "2022 NIRF",
             "title": "2022 NIRF",
             "type": "string"
            },
            {
             "name": "2021 NIRF",
             "title": "2021 NIRF",
             "type": "string"
            },
            {
             "name": "2020 NIRF",
             "title": "2020 NIRF",
             "type": "string"
            },
            {
             "name": "2019 NIRF",
             "title": "2019 NIRF",
             "type": "string"
            },
            {
             "name": "2023 QS World",
             "title": "2023 QS World",
             "type": "string"
            },
            {
             "name": "2022 QS World",
             "title": "2022 QS World",
             "type": "string"
            },
            {
             "name": "2021 QS World",
             "title": "2021 QS World",
             "type": "string"
            },
            {
             "name": "2020 QS World",
             "title": "2020 QS World",
             "type": "string"
            },
            {
             "name": "2022 QS Asia",
             "title": "2022 QS Asia",
             "type": "string"
            },
            {
             "name": "2020 QS India",
             "title": "2020 QS India",
             "type": "string"
            },
            {
             "name": "Times World",
             "title": "Times World",
             "type": "string"
            },
            {
             "name": "Times Asia",
             "title": "Times Asia",
             "type": "string"
            }
           ],
           "version": 1
          }
         }
        ]
       },
       "datasetPreviewNameToCmdIdMap": {},
       "diffDeletes": [],
       "diffInserts": [],
       "displayType": "redashChart",
       "error": null,
       "errorSummary": null,
       "errorTraceType": null,
       "finishTime": 0,
       "globalVars": {},
       "guid": "",
       "height": "648.21875",
       "hideCommandCode": false,
       "hideCommandResult": false,
       "iPythonMetadata": null,
       "inputWidgets": {},
       "isLockedInExamMode": false,
       "latestUser": "a user",
       "latestUserId": null,
       "listResultMetadata": null,
       "metadata": {
        "byteLimit": 2048000,
        "rowLimit": 10000
       },
       "nuid": "40f552a3-dc64-46af-ab18-a3c8e75a895e",
       "origId": 0,
       "parentHierarchy": [],
       "pivotAggregation": null,
       "pivotColumns": null,
       "position": 7.0,
       "resultDbfsErrorMessage": null,
       "resultDbfsStatus": "INLINED_IN_TREE",
       "results": null,
       "showCommandTitle": false,
       "startTime": 0,
       "state": "finished",
       "streamStates": {},
       "subcommandOptions": {},
       "submitTime": 0,
       "subtype": "tableResultSubCmd.visualization",
       "tableResultIndex": 0,
       "useConsistentColors": false,
       "version": "CommandV1",
       "width": "1170",
       "workflows": [],
       "xColumns": null,
       "yColumns": null
      }
     },
     "output_type": "display_data"
    }
   ],
   "source": [
    "display(df)"
   ]
  },
  {
   "cell_type": "code",
   "execution_count": 0,
   "metadata": {
    "application/vnd.databricks.v1+cell": {
     "cellMetadata": {
      "byteLimit": 2048000,
      "rowLimit": 10000
     },
     "inputWidgets": {},
     "nuid": "9c59fee6-9322-4c7b-8978-9d7fd3ec19a6",
     "showTitle": false,
     "title": ""
    }
   },
   "outputs": [
    {
     "output_type": "display_data",
     "data": {
      "text/html": [
       "<style scoped>\n",
       "  .table-result-container {\n",
       "    max-height: 300px;\n",
       "    overflow: auto;\n",
       "  }\n",
       "  table, th, td {\n",
       "    border: 1px solid black;\n",
       "    border-collapse: collapse;\n",
       "  }\n",
       "  th, td {\n",
       "    padding: 5px;\n",
       "  }\n",
       "  th {\n",
       "    text-align: left;\n",
       "  }\n",
       "</style><div class='table-result-container'><table class='table-result'><thead style='background-color: white'><tr><th>IIT Name</th><th>2023 NIRF</th><th>2022 NIRF</th><th>2021 NIRF</th><th>2020 NIRF</th><th>2019 NIRF</th><th>2023 QS World</th><th>2022 QS World</th><th>2021 QS World</th><th>2020 QS World</th><th>2022 QS Asia</th><th>2020 QS India</th><th>Times World</th><th>Times Asia</th></tr></thead><tbody><tr><td>IIT Hyderabad</td><td>8</td><td>16</td><td>17</td><td>22</td><td>581</td><td>0</td><td>0</td><td>0</td><td>224</td><td>15</td><td>601</td><td>144</td><td>0</td></tr><tr><td>IIT Tirupati</td><td>59</td><td>0</td><td>0</td><td>0</td><td>0</td><td>0</td><td>0</td><td>0</td><td>0</td><td>0</td><td>0</td><td>0</td><td>0</td></tr><tr><td>IIT Kanpur</td><td>4</td><td>5</td><td>6</td><td>6</td><td>264</td><td>277</td><td>350</td><td>291</td><td>64</td><td>6</td><td>601</td><td>125</td><td>0</td></tr><tr><td>IIT Gandhinagar</td><td>18</td><td>33</td><td>35</td><td>51</td><td>0</td><td>0</td><td>0</td><td>0</td><td>301</td><td>0</td><td>601</td><td>0</td><td>0</td></tr><tr><td>IIT Madras</td><td>1</td><td>1</td><td>1</td><td>1</td><td>250</td><td>255</td><td>275</td><td>271</td><td>54</td><td>4</td><td>601</td><td>125</td><td>0</td></tr><tr><td>IIT Ropar</td><td>22</td><td>31</td><td>39</td><td>29</td><td>0</td><td>0</td><td>0</td><td>0</td><td>261</td><td>25</td><td>351</td><td>55</td><td>0</td></tr><tr><td>IIT Delhi</td><td>2</td><td>4</td><td>3</td><td>3</td><td>174</td><td>185</td><td>193</td><td>182</td><td>45</td><td>3</td><td>401</td><td>67</td><td>0</td></tr><tr><td>IIT Guwahati</td><td>7</td><td>8</td><td>7</td><td>9</td><td>384</td><td>395</td><td>470</td><td>491</td><td>119</td><td>10</td><td>601</td><td>160</td><td>0</td></tr><tr><td>IIT (BHU) Varanasi</td><td>15</td><td>28</td><td>26</td><td>28</td><td>0</td><td>0</td><td>0</td><td>0</td><td>281</td><td>0</td><td>0</td><td>0</td><td>0</td></tr><tr><td>IIT Goa</td><td>0</td><td>0</td><td>0</td><td>0</td><td>0</td><td>0</td><td>0</td><td>0</td><td>0</td><td>0</td><td>0</td><td>0</td><td>0</td></tr><tr><td>IIT Jodhpur</td><td>30</td><td>0</td><td>0</td><td>0</td><td>0</td><td>0</td><td>0</td><td>0</td><td>0</td><td>0</td><td>0</td><td>0</td><td>0</td></tr><tr><td>IIT Bhubaneswar</td><td>47</td><td>58</td><td>56</td><td>46</td><td>801</td><td>0</td><td>0</td><td>0</td><td>251</td><td>20</td><td>1001</td><td>251</td><td>0</td></tr><tr><td>IIT Jammu</td><td>67</td><td>0</td><td>0</td><td>0</td><td>0</td><td>0</td><td>0</td><td>0</td><td>0</td><td>0</td><td>0</td><td>0</td><td>0</td></tr><tr><td>IIT Palakkad</td><td>69</td><td>0</td><td>0</td><td>0</td><td>0</td><td>0</td><td>0</td><td>0</td><td>0</td><td>0</td><td>0</td><td>0</td><td>0</td></tr><tr><td>IIT Roorkee</td><td>5</td><td>7</td><td>9</td><td>8</td><td>369</td><td>400</td><td>383</td><td>383</td><td>109</td><td>9</td><td>501</td><td>83</td><td>0</td></tr><tr><td>IIT (ISM) Dhanbad</td><td>17</td><td>26</td><td>22</td><td>25</td><td>0</td><td>0</td><td>0</td><td>0</td><td>251</td><td>46</td><td>1001</td><td>201</td><td>0</td></tr><tr><td>IIT Mandi</td><td>33</td><td>82</td><td>67</td><td>44</td><td>0</td><td>0</td><td>0</td><td>0</td><td>0</td><td>0</td><td>1001</td><td>0</td><td>0</td></tr><tr><td>IIT Patna</td><td>41</td><td>51</td><td>54</td><td>58</td><td>0</td><td>0</td><td>0</td><td>0</td><td>301</td><td>36</td><td>801</td><td>301</td><td>0</td></tr><tr><td>IIT Indore</td><td>14</td><td>30</td><td>23</td><td>0</td><td>396</td><td>0</td><td>0</td><td>0</td><td>178</td><td>13</td><td>401</td><td>78</td><td>0</td></tr><tr><td>IIT Bhilai</td><td>81</td><td>0</td><td>0</td><td>0</td><td>0</td><td>0</td><td>0</td><td>0</td><td>0</td><td>0</td><td>0</td><td>0</td><td>0</td></tr><tr><td>IIT Bombay</td><td>3</td><td>3</td><td>4</td><td>4</td><td>172</td><td>177</td><td>172</td><td>152</td><td>42</td><td>1</td><td>401</td><td>69</td><td>0</td></tr><tr><td>IIT Kharagpur</td><td>6</td><td>6</td><td>5</td><td>5</td><td>270</td><td>280</td><td>314</td><td>281</td><td>60</td><td>5</td><td>401</td><td>59</td><td>0</td></tr><tr><td>IIT Dharwad</td><td>93</td><td>0</td><td>0</td><td>0</td><td>0</td><td>0</td><td>0</td><td>0</td><td>0</td><td>0</td><td>0</td><td>0</td><td>0</td></tr></tbody></table></div>"
      ]
     },
     "metadata": {
      "application/vnd.databricks.v1+output": {
       "addedWidgets": {},
       "aggData": [],
       "aggError": "",
       "aggOverflow": false,
       "aggSchema": [],
       "aggSeriesLimitReached": false,
       "aggType": "",
       "arguments": {},
       "columnCustomDisplayInfos": {},
       "data": [
        [
         "IIT Hyderabad",
         "8",
         "16",
         "17",
         "22",
         "581",
         "0",
         "0",
         "0",
         "224",
         "15",
         "601",
         "144",
         "0"
        ],
        [
         "IIT Tirupati",
         "59",
         "0",
         "0",
         "0",
         "0",
         "0",
         "0",
         "0",
         "0",
         "0",
         "0",
         "0",
         "0"
        ],
        [
         "IIT Kanpur",
         "4",
         "5",
         "6",
         "6",
         "264",
         "277",
         "350",
         "291",
         "64",
         "6",
         "601",
         "125",
         "0"
        ],
        [
         "IIT Gandhinagar",
         "18",
         "33",
         "35",
         "51",
         "0",
         "0",
         "0",
         "0",
         "301",
         "0",
         "601",
         "0",
         "0"
        ],
        [
         "IIT Madras",
         "1",
         "1",
         "1",
         "1",
         "250",
         "255",
         "275",
         "271",
         "54",
         "4",
         "601",
         "125",
         "0"
        ],
        [
         "IIT Ropar",
         "22",
         "31",
         "39",
         "29",
         "0",
         "0",
         "0",
         "0",
         "261",
         "25",
         "351",
         "55",
         "0"
        ],
        [
         "IIT Delhi",
         "2",
         "4",
         "3",
         "3",
         "174",
         "185",
         "193",
         "182",
         "45",
         "3",
         "401",
         "67",
         "0"
        ],
        [
         "IIT Guwahati",
         "7",
         "8",
         "7",
         "9",
         "384",
         "395",
         "470",
         "491",
         "119",
         "10",
         "601",
         "160",
         "0"
        ],
        [
         "IIT (BHU) Varanasi",
         "15",
         "28",
         "26",
         "28",
         "0",
         "0",
         "0",
         "0",
         "281",
         "0",
         "0",
         "0",
         "0"
        ],
        [
         "IIT Goa",
         "0",
         "0",
         "0",
         "0",
         "0",
         "0",
         "0",
         "0",
         "0",
         "0",
         "0",
         "0",
         "0"
        ],
        [
         "IIT Jodhpur",
         "30",
         "0",
         "0",
         "0",
         "0",
         "0",
         "0",
         "0",
         "0",
         "0",
         "0",
         "0",
         "0"
        ],
        [
         "IIT Bhubaneswar",
         "47",
         "58",
         "56",
         "46",
         "801",
         "0",
         "0",
         "0",
         "251",
         "20",
         "1001",
         "251",
         "0"
        ],
        [
         "IIT Jammu",
         "67",
         "0",
         "0",
         "0",
         "0",
         "0",
         "0",
         "0",
         "0",
         "0",
         "0",
         "0",
         "0"
        ],
        [
         "IIT Palakkad",
         "69",
         "0",
         "0",
         "0",
         "0",
         "0",
         "0",
         "0",
         "0",
         "0",
         "0",
         "0",
         "0"
        ],
        [
         "IIT Roorkee",
         "5",
         "7",
         "9",
         "8",
         "369",
         "400",
         "383",
         "383",
         "109",
         "9",
         "501",
         "83",
         "0"
        ],
        [
         "IIT (ISM) Dhanbad",
         "17",
         "26",
         "22",
         "25",
         "0",
         "0",
         "0",
         "0",
         "251",
         "46",
         "1001",
         "201",
         "0"
        ],
        [
         "IIT Mandi",
         "33",
         "82",
         "67",
         "44",
         "0",
         "0",
         "0",
         "0",
         "0",
         "0",
         "1001",
         "0",
         "0"
        ],
        [
         "IIT Patna",
         "41",
         "51",
         "54",
         "58",
         "0",
         "0",
         "0",
         "0",
         "301",
         "36",
         "801",
         "301",
         "0"
        ],
        [
         "IIT Indore",
         "14",
         "30",
         "23",
         "0",
         "396",
         "0",
         "0",
         "0",
         "178",
         "13",
         "401",
         "78",
         "0"
        ],
        [
         "IIT Bhilai",
         "81",
         "0",
         "0",
         "0",
         "0",
         "0",
         "0",
         "0",
         "0",
         "0",
         "0",
         "0",
         "0"
        ],
        [
         "IIT Bombay",
         "3",
         "3",
         "4",
         "4",
         "172",
         "177",
         "172",
         "152",
         "42",
         "1",
         "401",
         "69",
         "0"
        ],
        [
         "IIT Kharagpur",
         "6",
         "6",
         "5",
         "5",
         "270",
         "280",
         "314",
         "281",
         "60",
         "5",
         "401",
         "59",
         "0"
        ],
        [
         "IIT Dharwad",
         "93",
         "0",
         "0",
         "0",
         "0",
         "0",
         "0",
         "0",
         "0",
         "0",
         "0",
         "0",
         "0"
        ]
       ],
       "datasetInfos": [],
       "dbfsResultPath": null,
       "isJsonSchema": true,
       "metadata": {},
       "overflow": false,
       "plotOptions": {
        "customPlotOptions": {},
        "displayType": "table",
        "pivotAggregation": null,
        "pivotColumns": null,
        "xColumns": null,
        "yColumns": null
       },
       "removedWidgets": [],
       "schema": [
        {
         "metadata": "{}",
         "name": "IIT Name",
         "type": "\"string\""
        },
        {
         "metadata": "{}",
         "name": "2023 NIRF",
         "type": "\"string\""
        },
        {
         "metadata": "{}",
         "name": "2022 NIRF",
         "type": "\"string\""
        },
        {
         "metadata": "{}",
         "name": "2021 NIRF",
         "type": "\"string\""
        },
        {
         "metadata": "{}",
         "name": "2020 NIRF",
         "type": "\"string\""
        },
        {
         "metadata": "{}",
         "name": "2019 NIRF",
         "type": "\"string\""
        },
        {
         "metadata": "{}",
         "name": "2023 QS World",
         "type": "\"string\""
        },
        {
         "metadata": "{}",
         "name": "2022 QS World",
         "type": "\"string\""
        },
        {
         "metadata": "{}",
         "name": "2021 QS World",
         "type": "\"string\""
        },
        {
         "metadata": "{}",
         "name": "2020 QS World",
         "type": "\"string\""
        },
        {
         "metadata": "{}",
         "name": "2022 QS Asia",
         "type": "\"string\""
        },
        {
         "metadata": "{}",
         "name": "2020 QS India",
         "type": "\"string\""
        },
        {
         "metadata": "{}",
         "name": "Times World",
         "type": "\"string\""
        },
        {
         "metadata": "{}",
         "name": "Times Asia",
         "type": "\"string\""
        }
       ],
       "type": "table"
      }
     },
     "output_type": "display_data"
    },
    {
     "output_type": "display_data",
     "data": {
      "text/plain": [
       "Databricks visualization. Run in Databricks to view."
      ]
     },
     "metadata": {
      "application/vnd.databricks.v1.subcommand+json": {
       "bindings": {},
       "collapsed": false,
       "command": "%python\n__backend_agg_display_orig = display\n__backend_agg_dfs = []\ndef __backend_agg_display_new(df):\n    __backend_agg_df_modules = [\"pandas.core.frame\", \"databricks.koalas.frame\", \"pyspark.sql.dataframe\", \"pyspark.pandas.frame\", \"pyspark.sql.connect.dataframe\"]\n    if (type(df).__module__ in __backend_agg_df_modules and type(df).__name__ == 'DataFrame') or isinstance(df, list):\n        __backend_agg_dfs.append(df)\n\ndisplay = __backend_agg_display_new\n\ndef __backend_agg_user_code_fn():\n    import base64\n    exec(base64.standard_b64decode(\"ZGlzcGxheShkZik=\").decode())\n\ntry:\n    # run user code\n    __backend_agg_user_code_fn()\n\n    #reset display function\n    display = __backend_agg_display_orig\n\n    if len(__backend_agg_dfs) > 0:\n        # create a temp view\n        if type(__backend_agg_dfs[0]).__module__ == \"databricks.koalas.frame\":\n            # koalas dataframe\n            __backend_agg_dfs[0].to_spark().createOrReplaceTempView(\"DatabricksViewb7fc495\")\n        elif type(__backend_agg_dfs[0]).__module__ == \"pandas.core.frame\" or isinstance(__backend_agg_dfs[0], list):\n            # pandas dataframe\n            spark.createDataFrame(__backend_agg_dfs[0]).createOrReplaceTempView(\"DatabricksViewb7fc495\")\n        else:\n            __backend_agg_dfs[0].createOrReplaceTempView(\"DatabricksViewb7fc495\")\n        #run backend agg\n        display(spark.sql(\"\"\"WITH q AS (select * from DatabricksViewb7fc495) SELECT `IIT Name`,`Times Asia`,`Times World` FROM q\"\"\"))\n    else:\n        displayHTML(\"dataframe no longer exists. If you're using dataframe.display(), use display(dataframe) instead.\")\n\n\nfinally:\n    spark.sql(\"drop view if exists DatabricksViewb7fc495\")\n    display = __backend_agg_display_orig\n    del __backend_agg_display_new\n    del __backend_agg_display_orig\n    del __backend_agg_dfs\n    del __backend_agg_user_code_fn\n\n",
       "commandTitle": "Times world rankings",
       "commandType": "auto",
       "commandVersion": 0,
       "commentThread": [],
       "commentsVisible": false,
       "contentSha256Hex": null,
       "customPlotOptions": {
        "redashChart": [
         {
          "key": "type",
          "value": "CHART"
         },
         {
          "key": "options",
          "value": {
           "alignYAxesAtZero": true,
           "coefficient": 1,
           "columnConfigurationMap": {
            "x": {
             "column": "IIT Name",
             "id": "column_c45f2157452"
            },
            "y": [
             {
              "column": "Times Asia",
              "id": "column_c45f2157458"
             },
             {
              "column": "Times World",
              "id": "column_c45f2157459"
             }
            ]
           },
           "dateTimeFormat": "DD/MM/YYYY HH:mm",
           "direction": {
            "type": "counterclockwise"
           },
           "error_y": {
            "type": "data",
            "visible": true
           },
           "globalSeriesType": "bubble",
           "legend": {
            "traceorder": "normal"
           },
           "missingValuesAsZero": true,
           "numberFormat": "0,0[.]00000",
           "percentFormat": "0[.]00%",
           "series": {
            "error_y": {
             "type": "data",
             "visible": true
            },
            "stacking": null
           },
           "seriesOptions": {
            "Times Asia": {
             "type": "bubble",
             "yAxis": 0
            },
            "Times World": {
             "type": "bubble",
             "yAxis": 0
            }
           },
           "showDataLabels": false,
           "sizemode": "diameter",
           "sortX": true,
           "sortY": true,
           "swappedAxes": false,
           "textFormat": "",
           "useAggregationsUi": true,
           "valuesOptions": {},
           "version": 2,
           "xAxis": {
            "labels": {
             "enabled": true
            },
            "type": "-"
           },
           "yAxis": [
            {
             "type": "linear"
            },
            {
             "opposite": true,
             "type": "-"
            }
           ]
          }
         }
        ]
       },
       "datasetPreviewNameToCmdIdMap": {},
       "diffDeletes": [],
       "diffInserts": [],
       "displayType": "redashChart",
       "error": null,
       "errorSummary": null,
       "errorTraceType": null,
       "finishTime": 1698388635978,
       "globalVars": {},
       "guid": "",
       "height": "auto",
       "hideCommandCode": false,
       "hideCommandResult": false,
       "iPythonMetadata": null,
       "inputWidgets": {},
       "isLockedInExamMode": false,
       "latestUser": "a user",
       "latestUserId": null,
       "listResultMetadata": [
        [
         "table",
         23
        ]
       ],
       "metadata": {
        "byteLimit": 2048000,
        "rowLimit": 10000
       },
       "nuid": "e50b2252-c763-40e6-af12-ababe9670aa8",
       "origId": 0,
       "parentHierarchy": [],
       "pivotAggregation": null,
       "pivotColumns": null,
       "position": 8.0,
       "resultDbfsErrorMessage": null,
       "resultDbfsStatus": "INLINED_IN_TREE",
       "results": {
        "addedWidgets": {},
        "arguments": {},
        "data": [
         {
          "addedWidgets": {},
          "aggData": [],
          "aggError": "",
          "aggOverflow": false,
          "aggSchema": [],
          "aggSeriesLimitReached": false,
          "aggType": "",
          "arguments": {},
          "columnCustomDisplayInfos": {},
          "data": [
           [
            "IIT Hyderabad",
            "0",
            "144"
           ],
           [
            "IIT Tirupati",
            "0",
            "0"
           ],
           [
            "IIT Kanpur",
            "0",
            "125"
           ],
           [
            "IIT Gandhinagar",
            "0",
            "0"
           ],
           [
            "IIT Madras",
            "0",
            "125"
           ],
           [
            "IIT Ropar",
            "0",
            "55"
           ],
           [
            "IIT Delhi",
            "0",
            "67"
           ],
           [
            "IIT Guwahati",
            "0",
            "160"
           ],
           [
            "IIT (BHU) Varanasi",
            "0",
            "0"
           ],
           [
            "IIT Goa",
            "0",
            "0"
           ],
           [
            "IIT Jodhpur",
            "0",
            "0"
           ],
           [
            "IIT Bhubaneswar",
            "0",
            "251"
           ],
           [
            "IIT Jammu",
            "0",
            "0"
           ],
           [
            "IIT Palakkad",
            "0",
            "0"
           ],
           [
            "IIT Roorkee",
            "0",
            "83"
           ],
           [
            "IIT (ISM) Dhanbad",
            "0",
            "201"
           ],
           [
            "IIT Mandi",
            "0",
            "0"
           ],
           [
            "IIT Patna",
            "0",
            "301"
           ],
           [
            "IIT Indore",
            "0",
            "78"
           ],
           [
            "IIT Bhilai",
            "0",
            "0"
           ],
           [
            "IIT Bombay",
            "0",
            "69"
           ],
           [
            "IIT Kharagpur",
            "0",
            "59"
           ],
           [
            "IIT Dharwad",
            "0",
            "0"
           ]
          ],
          "datasetInfos": [],
          "dbfsResultPath": null,
          "isJsonSchema": true,
          "metadata": {},
          "overflow": false,
          "plotOptions": null,
          "removedWidgets": [],
          "schema": [
           {
            "metadata": "{}",
            "name": "IIT Name",
            "type": "\"string\""
           },
           {
            "metadata": "{}",
            "name": "Times Asia",
            "type": "\"string\""
           },
           {
            "metadata": "{}",
            "name": "Times World",
            "type": "\"string\""
           }
          ],
          "type": "table"
         }
        ],
        "datasetInfos": [],
        "metadata": {
         "isDbfsCommandResult": false
        },
        "removedWidgets": [],
        "type": "listResults"
       },
       "showCommandTitle": false,
       "startTime": 1698388635079,
       "state": "finished",
       "streamStates": {},
       "subcommandOptions": {
        "queryPlan": {
         "selects": [
          {
           "column": "IIT Name",
           "type": "column"
          },
          {
           "column": "Times Asia",
           "type": "column"
          },
          {
           "column": "Times World",
           "type": "column"
          }
         ]
        }
       },
       "submitTime": 1698388627744,
       "subtype": "tableResultSubCmd.visualization",
       "tableResultIndex": 0,
       "useConsistentColors": false,
       "version": "CommandV1",
       "width": "auto",
       "workflows": [],
       "xColumns": null,
       "yColumns": null
      }
     },
     "output_type": "display_data"
    },
    {
     "output_type": "display_data",
     "data": {
      "text/plain": [
       "Databricks visualization. Run in Databricks to view."
      ]
     },
     "metadata": {
      "application/vnd.databricks.v1.subcommand+json": {
       "bindings": {},
       "collapsed": false,
       "command": "display(df)",
       "commandTitle": "Times World Comparision",
       "commandType": "auto",
       "commandVersion": 0,
       "commentThread": [],
       "commentsVisible": false,
       "contentSha256Hex": null,
       "customPlotOptions": {
        "redashChart": [
         {
          "key": "type",
          "value": "FUNNEL"
         },
         {
          "key": "options",
          "value": {
           "autoSort": true,
           "itemsLimit": 100,
           "numberFormat": "0,0[.]00",
           "percentFormat": "0[.]00%",
           "percentValuesRange": {
            "max": 1000,
            "min": 0.01
           },
           "sortKeyCol": {
            "colName": "Times World",
            "reverse": true
           },
           "stepCol": {
            "colName": "IIT Name",
            "displayAs": "IIT"
           },
           "valueCol": {
            "colName": "Times World",
            "displayAs": "Rank"
           }
          }
         }
        ]
       },
       "datasetPreviewNameToCmdIdMap": {},
       "diffDeletes": [],
       "diffInserts": [],
       "displayType": "redashChart",
       "error": null,
       "errorSummary": null,
       "errorTraceType": null,
       "finishTime": 0,
       "globalVars": {},
       "guid": "",
       "height": "auto",
       "hideCommandCode": false,
       "hideCommandResult": false,
       "iPythonMetadata": null,
       "inputWidgets": {},
       "isLockedInExamMode": false,
       "latestUser": "a user",
       "latestUserId": null,
       "listResultMetadata": null,
       "metadata": {
        "byteLimit": 2048000,
        "rowLimit": 10000
       },
       "nuid": "1c0c1bbd-cf0e-4ccd-958d-79d3f673a9ab",
       "origId": 0,
       "parentHierarchy": [],
       "pivotAggregation": null,
       "pivotColumns": null,
       "position": 9.0,
       "resultDbfsErrorMessage": null,
       "resultDbfsStatus": "INLINED_IN_TREE",
       "results": null,
       "showCommandTitle": false,
       "startTime": 0,
       "state": "finished",
       "streamStates": {},
       "subcommandOptions": {},
       "submitTime": 0,
       "subtype": "tableResultSubCmd.visualization",
       "tableResultIndex": 0,
       "useConsistentColors": false,
       "version": "CommandV1",
       "width": "auto",
       "workflows": [],
       "xColumns": null,
       "yColumns": null
      }
     },
     "output_type": "display_data"
    }
   ],
   "source": [
    "display(df)"
   ]
  },
  {
   "cell_type": "code",
   "execution_count": 0,
   "metadata": {
    "application/vnd.databricks.v1+cell": {
     "cellMetadata": {
      "byteLimit": 2048000,
      "rowLimit": 10000
     },
     "inputWidgets": {},
     "nuid": "f09106a1-4352-4bd2-8af7-740c0e7089a7",
     "showTitle": false,
     "title": ""
    }
   },
   "outputs": [
    {
     "output_type": "display_data",
     "data": {
      "text/html": [
       "<style scoped>\n",
       "  .table-result-container {\n",
       "    max-height: 300px;\n",
       "    overflow: auto;\n",
       "  }\n",
       "  table, th, td {\n",
       "    border: 1px solid black;\n",
       "    border-collapse: collapse;\n",
       "  }\n",
       "  th, td {\n",
       "    padding: 5px;\n",
       "  }\n",
       "  th {\n",
       "    text-align: left;\n",
       "  }\n",
       "</style><div class='table-result-container'><table class='table-result'><thead style='background-color: white'><tr><th>IIT Name</th><th>2023 NIRF</th><th>2022 NIRF</th><th>2021 NIRF</th><th>2020 NIRF</th><th>2019 NIRF</th><th>2023 QS World</th><th>2022 QS World</th><th>2021 QS World</th><th>2020 QS World</th><th>2022 QS Asia</th><th>2020 QS India</th><th>Times World</th><th>Times Asia</th></tr></thead><tbody><tr><td>IIT Hyderabad</td><td>8</td><td>16</td><td>17</td><td>22</td><td>581</td><td>0</td><td>0</td><td>0</td><td>224</td><td>15</td><td>601</td><td>144</td><td>0</td></tr><tr><td>IIT Tirupati</td><td>59</td><td>0</td><td>0</td><td>0</td><td>0</td><td>0</td><td>0</td><td>0</td><td>0</td><td>0</td><td>0</td><td>0</td><td>0</td></tr><tr><td>IIT Kanpur</td><td>4</td><td>5</td><td>6</td><td>6</td><td>264</td><td>277</td><td>350</td><td>291</td><td>64</td><td>6</td><td>601</td><td>125</td><td>0</td></tr><tr><td>IIT Gandhinagar</td><td>18</td><td>33</td><td>35</td><td>51</td><td>0</td><td>0</td><td>0</td><td>0</td><td>301</td><td>0</td><td>601</td><td>0</td><td>0</td></tr><tr><td>IIT Madras</td><td>1</td><td>1</td><td>1</td><td>1</td><td>250</td><td>255</td><td>275</td><td>271</td><td>54</td><td>4</td><td>601</td><td>125</td><td>0</td></tr><tr><td>IIT Ropar</td><td>22</td><td>31</td><td>39</td><td>29</td><td>0</td><td>0</td><td>0</td><td>0</td><td>261</td><td>25</td><td>351</td><td>55</td><td>0</td></tr><tr><td>IIT Delhi</td><td>2</td><td>4</td><td>3</td><td>3</td><td>174</td><td>185</td><td>193</td><td>182</td><td>45</td><td>3</td><td>401</td><td>67</td><td>0</td></tr><tr><td>IIT Guwahati</td><td>7</td><td>8</td><td>7</td><td>9</td><td>384</td><td>395</td><td>470</td><td>491</td><td>119</td><td>10</td><td>601</td><td>160</td><td>0</td></tr><tr><td>IIT (BHU) Varanasi</td><td>15</td><td>28</td><td>26</td><td>28</td><td>0</td><td>0</td><td>0</td><td>0</td><td>281</td><td>0</td><td>0</td><td>0</td><td>0</td></tr><tr><td>IIT Goa</td><td>0</td><td>0</td><td>0</td><td>0</td><td>0</td><td>0</td><td>0</td><td>0</td><td>0</td><td>0</td><td>0</td><td>0</td><td>0</td></tr><tr><td>IIT Jodhpur</td><td>30</td><td>0</td><td>0</td><td>0</td><td>0</td><td>0</td><td>0</td><td>0</td><td>0</td><td>0</td><td>0</td><td>0</td><td>0</td></tr><tr><td>IIT Bhubaneswar</td><td>47</td><td>58</td><td>56</td><td>46</td><td>801</td><td>0</td><td>0</td><td>0</td><td>251</td><td>20</td><td>1001</td><td>251</td><td>0</td></tr><tr><td>IIT Jammu</td><td>67</td><td>0</td><td>0</td><td>0</td><td>0</td><td>0</td><td>0</td><td>0</td><td>0</td><td>0</td><td>0</td><td>0</td><td>0</td></tr><tr><td>IIT Palakkad</td><td>69</td><td>0</td><td>0</td><td>0</td><td>0</td><td>0</td><td>0</td><td>0</td><td>0</td><td>0</td><td>0</td><td>0</td><td>0</td></tr><tr><td>IIT Roorkee</td><td>5</td><td>7</td><td>9</td><td>8</td><td>369</td><td>400</td><td>383</td><td>383</td><td>109</td><td>9</td><td>501</td><td>83</td><td>0</td></tr><tr><td>IIT (ISM) Dhanbad</td><td>17</td><td>26</td><td>22</td><td>25</td><td>0</td><td>0</td><td>0</td><td>0</td><td>251</td><td>46</td><td>1001</td><td>201</td><td>0</td></tr><tr><td>IIT Mandi</td><td>33</td><td>82</td><td>67</td><td>44</td><td>0</td><td>0</td><td>0</td><td>0</td><td>0</td><td>0</td><td>1001</td><td>0</td><td>0</td></tr><tr><td>IIT Patna</td><td>41</td><td>51</td><td>54</td><td>58</td><td>0</td><td>0</td><td>0</td><td>0</td><td>301</td><td>36</td><td>801</td><td>301</td><td>0</td></tr><tr><td>IIT Indore</td><td>14</td><td>30</td><td>23</td><td>0</td><td>396</td><td>0</td><td>0</td><td>0</td><td>178</td><td>13</td><td>401</td><td>78</td><td>0</td></tr><tr><td>IIT Bhilai</td><td>81</td><td>0</td><td>0</td><td>0</td><td>0</td><td>0</td><td>0</td><td>0</td><td>0</td><td>0</td><td>0</td><td>0</td><td>0</td></tr><tr><td>IIT Bombay</td><td>3</td><td>3</td><td>4</td><td>4</td><td>172</td><td>177</td><td>172</td><td>152</td><td>42</td><td>1</td><td>401</td><td>69</td><td>0</td></tr><tr><td>IIT Kharagpur</td><td>6</td><td>6</td><td>5</td><td>5</td><td>270</td><td>280</td><td>314</td><td>281</td><td>60</td><td>5</td><td>401</td><td>59</td><td>0</td></tr><tr><td>IIT Dharwad</td><td>93</td><td>0</td><td>0</td><td>0</td><td>0</td><td>0</td><td>0</td><td>0</td><td>0</td><td>0</td><td>0</td><td>0</td><td>0</td></tr></tbody></table></div>"
      ]
     },
     "metadata": {
      "application/vnd.databricks.v1+output": {
       "addedWidgets": {},
       "aggData": [],
       "aggError": "",
       "aggOverflow": false,
       "aggSchema": [],
       "aggSeriesLimitReached": false,
       "aggType": "",
       "arguments": {},
       "columnCustomDisplayInfos": {},
       "data": [
        [
         "IIT Hyderabad",
         "8",
         "16",
         "17",
         "22",
         "581",
         "0",
         "0",
         "0",
         "224",
         "15",
         "601",
         "144",
         "0"
        ],
        [
         "IIT Tirupati",
         "59",
         "0",
         "0",
         "0",
         "0",
         "0",
         "0",
         "0",
         "0",
         "0",
         "0",
         "0",
         "0"
        ],
        [
         "IIT Kanpur",
         "4",
         "5",
         "6",
         "6",
         "264",
         "277",
         "350",
         "291",
         "64",
         "6",
         "601",
         "125",
         "0"
        ],
        [
         "IIT Gandhinagar",
         "18",
         "33",
         "35",
         "51",
         "0",
         "0",
         "0",
         "0",
         "301",
         "0",
         "601",
         "0",
         "0"
        ],
        [
         "IIT Madras",
         "1",
         "1",
         "1",
         "1",
         "250",
         "255",
         "275",
         "271",
         "54",
         "4",
         "601",
         "125",
         "0"
        ],
        [
         "IIT Ropar",
         "22",
         "31",
         "39",
         "29",
         "0",
         "0",
         "0",
         "0",
         "261",
         "25",
         "351",
         "55",
         "0"
        ],
        [
         "IIT Delhi",
         "2",
         "4",
         "3",
         "3",
         "174",
         "185",
         "193",
         "182",
         "45",
         "3",
         "401",
         "67",
         "0"
        ],
        [
         "IIT Guwahati",
         "7",
         "8",
         "7",
         "9",
         "384",
         "395",
         "470",
         "491",
         "119",
         "10",
         "601",
         "160",
         "0"
        ],
        [
         "IIT (BHU) Varanasi",
         "15",
         "28",
         "26",
         "28",
         "0",
         "0",
         "0",
         "0",
         "281",
         "0",
         "0",
         "0",
         "0"
        ],
        [
         "IIT Goa",
         "0",
         "0",
         "0",
         "0",
         "0",
         "0",
         "0",
         "0",
         "0",
         "0",
         "0",
         "0",
         "0"
        ],
        [
         "IIT Jodhpur",
         "30",
         "0",
         "0",
         "0",
         "0",
         "0",
         "0",
         "0",
         "0",
         "0",
         "0",
         "0",
         "0"
        ],
        [
         "IIT Bhubaneswar",
         "47",
         "58",
         "56",
         "46",
         "801",
         "0",
         "0",
         "0",
         "251",
         "20",
         "1001",
         "251",
         "0"
        ],
        [
         "IIT Jammu",
         "67",
         "0",
         "0",
         "0",
         "0",
         "0",
         "0",
         "0",
         "0",
         "0",
         "0",
         "0",
         "0"
        ],
        [
         "IIT Palakkad",
         "69",
         "0",
         "0",
         "0",
         "0",
         "0",
         "0",
         "0",
         "0",
         "0",
         "0",
         "0",
         "0"
        ],
        [
         "IIT Roorkee",
         "5",
         "7",
         "9",
         "8",
         "369",
         "400",
         "383",
         "383",
         "109",
         "9",
         "501",
         "83",
         "0"
        ],
        [
         "IIT (ISM) Dhanbad",
         "17",
         "26",
         "22",
         "25",
         "0",
         "0",
         "0",
         "0",
         "251",
         "46",
         "1001",
         "201",
         "0"
        ],
        [
         "IIT Mandi",
         "33",
         "82",
         "67",
         "44",
         "0",
         "0",
         "0",
         "0",
         "0",
         "0",
         "1001",
         "0",
         "0"
        ],
        [
         "IIT Patna",
         "41",
         "51",
         "54",
         "58",
         "0",
         "0",
         "0",
         "0",
         "301",
         "36",
         "801",
         "301",
         "0"
        ],
        [
         "IIT Indore",
         "14",
         "30",
         "23",
         "0",
         "396",
         "0",
         "0",
         "0",
         "178",
         "13",
         "401",
         "78",
         "0"
        ],
        [
         "IIT Bhilai",
         "81",
         "0",
         "0",
         "0",
         "0",
         "0",
         "0",
         "0",
         "0",
         "0",
         "0",
         "0",
         "0"
        ],
        [
         "IIT Bombay",
         "3",
         "3",
         "4",
         "4",
         "172",
         "177",
         "172",
         "152",
         "42",
         "1",
         "401",
         "69",
         "0"
        ],
        [
         "IIT Kharagpur",
         "6",
         "6",
         "5",
         "5",
         "270",
         "280",
         "314",
         "281",
         "60",
         "5",
         "401",
         "59",
         "0"
        ],
        [
         "IIT Dharwad",
         "93",
         "0",
         "0",
         "0",
         "0",
         "0",
         "0",
         "0",
         "0",
         "0",
         "0",
         "0",
         "0"
        ]
       ],
       "datasetInfos": [],
       "dbfsResultPath": null,
       "isJsonSchema": true,
       "metadata": {},
       "overflow": false,
       "plotOptions": {
        "customPlotOptions": {},
        "displayType": "table",
        "pivotAggregation": null,
        "pivotColumns": null,
        "xColumns": null,
        "yColumns": null
       },
       "removedWidgets": [],
       "schema": [
        {
         "metadata": "{}",
         "name": "IIT Name",
         "type": "\"string\""
        },
        {
         "metadata": "{}",
         "name": "2023 NIRF",
         "type": "\"string\""
        },
        {
         "metadata": "{}",
         "name": "2022 NIRF",
         "type": "\"string\""
        },
        {
         "metadata": "{}",
         "name": "2021 NIRF",
         "type": "\"string\""
        },
        {
         "metadata": "{}",
         "name": "2020 NIRF",
         "type": "\"string\""
        },
        {
         "metadata": "{}",
         "name": "2019 NIRF",
         "type": "\"string\""
        },
        {
         "metadata": "{}",
         "name": "2023 QS World",
         "type": "\"string\""
        },
        {
         "metadata": "{}",
         "name": "2022 QS World",
         "type": "\"string\""
        },
        {
         "metadata": "{}",
         "name": "2021 QS World",
         "type": "\"string\""
        },
        {
         "metadata": "{}",
         "name": "2020 QS World",
         "type": "\"string\""
        },
        {
         "metadata": "{}",
         "name": "2022 QS Asia",
         "type": "\"string\""
        },
        {
         "metadata": "{}",
         "name": "2020 QS India",
         "type": "\"string\""
        },
        {
         "metadata": "{}",
         "name": "Times World",
         "type": "\"string\""
        },
        {
         "metadata": "{}",
         "name": "Times Asia",
         "type": "\"string\""
        }
       ],
       "type": "table"
      }
     },
     "output_type": "display_data"
    },
    {
     "output_type": "display_data",
     "data": {
      "text/plain": [
       "Databricks visualization. Run in Databricks to view."
      ]
     },
     "metadata": {
      "application/vnd.databricks.v1.subcommand+json": {
       "bindings": {},
       "collapsed": false,
       "command": "%python\n__backend_agg_display_orig = display\n__backend_agg_dfs = []\ndef __backend_agg_display_new(df):\n    __backend_agg_df_modules = [\"pandas.core.frame\", \"databricks.koalas.frame\", \"pyspark.sql.dataframe\", \"pyspark.pandas.frame\", \"pyspark.sql.connect.dataframe\"]\n    if (type(df).__module__ in __backend_agg_df_modules and type(df).__name__ == 'DataFrame') or isinstance(df, list):\n        __backend_agg_dfs.append(df)\n\ndisplay = __backend_agg_display_new\n\ndef __backend_agg_user_code_fn():\n    import base64\n    exec(base64.standard_b64decode(\"ZGlzcGxheShkZik=\").decode())\n\ntry:\n    # run user code\n    __backend_agg_user_code_fn()\n\n    #reset display function\n    display = __backend_agg_display_orig\n\n    if len(__backend_agg_dfs) > 0:\n        # create a temp view\n        if type(__backend_agg_dfs[0]).__module__ == \"databricks.koalas.frame\":\n            # koalas dataframe\n            __backend_agg_dfs[0].to_spark().createOrReplaceTempView(\"DatabricksView0b6d2ec\")\n        elif type(__backend_agg_dfs[0]).__module__ == \"pandas.core.frame\" or isinstance(__backend_agg_dfs[0], list):\n            # pandas dataframe\n            spark.createDataFrame(__backend_agg_dfs[0]).createOrReplaceTempView(\"DatabricksView0b6d2ec\")\n        else:\n            __backend_agg_dfs[0].createOrReplaceTempView(\"DatabricksView0b6d2ec\")\n        #run backend agg\n        display(spark.sql(\"\"\"WITH q AS (select * from DatabricksView0b6d2ec) SELECT `IIT Name`,`2023 QS World`,`2022 QS World`,`2021 QS World`,`2020 QS World` FROM q\"\"\"))\n    else:\n        displayHTML(\"dataframe no longer exists. If you're using dataframe.display(), use display(dataframe) instead.\")\n\n\nfinally:\n    spark.sql(\"drop view if exists DatabricksView0b6d2ec\")\n    display = __backend_agg_display_orig\n    del __backend_agg_display_new\n    del __backend_agg_display_orig\n    del __backend_agg_dfs\n    del __backend_agg_user_code_fn\n\n",
       "commandTitle": "QS World Ranings",
       "commandType": "auto",
       "commandVersion": 0,
       "commentThread": [],
       "commentsVisible": false,
       "contentSha256Hex": null,
       "customPlotOptions": {
        "redashChart": [
         {
          "key": "type",
          "value": "CHART"
         },
         {
          "key": "options",
          "value": {
           "alignYAxesAtZero": true,
           "coefficient": 1,
           "columnConfigurationMap": {
            "x": {
             "column": "IIT Name",
             "id": "column_c45f2157482"
            },
            "y": [
             {
              "column": "2023 QS World",
              "id": "column_c45f2157489"
             },
             {
              "column": "2022 QS World",
              "id": "column_c45f2157490"
             },
             {
              "column": "2021 QS World",
              "id": "column_c45f2157491"
             },
             {
              "column": "2020 QS World",
              "id": "column_c45f2157492"
             }
            ]
           },
           "dateTimeFormat": "DD/MM/YYYY HH:mm",
           "direction": {
            "type": "counterclockwise"
           },
           "error_y": {
            "type": "data",
            "visible": true
           },
           "globalSeriesType": "bubble",
           "legend": {
            "traceorder": "normal"
           },
           "missingValuesAsZero": true,
           "numberFormat": "0,0[.]00000",
           "percentFormat": "0[.]00%",
           "series": {
            "error_y": {
             "type": "data",
             "visible": true
            },
            "stacking": null
           },
           "seriesOptions": {
            "2020 QS World": {
             "type": "bubble",
             "yAxis": 0
            },
            "2021 QS World": {
             "type": "bubble",
             "yAxis": 0
            },
            "2022 QS World": {
             "type": "bubble",
             "yAxis": 0
            },
            "2023 QS World": {
             "type": "bubble",
             "yAxis": 0
            }
           },
           "showDataLabels": false,
           "sizemode": "diameter",
           "sortX": true,
           "sortY": true,
           "swappedAxes": false,
           "textFormat": "",
           "useAggregationsUi": true,
           "valuesOptions": {},
           "version": 2,
           "xAxis": {
            "labels": {
             "enabled": true
            },
            "type": "category"
           },
           "yAxis": [
            {
             "title": {
              "text": "QS World Rankings"
             },
             "type": "linear"
            },
            {
             "opposite": true,
             "type": "-"
            }
           ]
          }
         }
        ]
       },
       "datasetPreviewNameToCmdIdMap": {},
       "diffDeletes": [],
       "diffInserts": [],
       "displayType": "redashChart",
       "error": null,
       "errorSummary": null,
       "errorTraceType": null,
       "finishTime": 0,
       "globalVars": {},
       "guid": "",
       "height": "auto",
       "hideCommandCode": false,
       "hideCommandResult": false,
       "iPythonMetadata": null,
       "inputWidgets": {},
       "isLockedInExamMode": false,
       "latestUser": "a user",
       "latestUserId": null,
       "listResultMetadata": null,
       "metadata": {
        "byteLimit": 2048000,
        "rowLimit": 10000
       },
       "nuid": "d9be2ade-f5a9-4165-a3f0-c2c0e137051b",
       "origId": 0,
       "parentHierarchy": [],
       "pivotAggregation": null,
       "pivotColumns": null,
       "position": 9.0,
       "resultDbfsErrorMessage": null,
       "resultDbfsStatus": "INLINED_IN_TREE",
       "results": null,
       "showCommandTitle": false,
       "startTime": 0,
       "state": "finished",
       "streamStates": {},
       "subcommandOptions": {
        "queryPlan": {
         "selects": [
          {
           "column": "IIT Name",
           "type": "column"
          },
          {
           "column": "2023 QS World",
           "type": "column"
          },
          {
           "column": "2022 QS World",
           "type": "column"
          },
          {
           "column": "2021 QS World",
           "type": "column"
          },
          {
           "column": "2020 QS World",
           "type": "column"
          }
         ]
        }
       },
       "submitTime": 0,
       "subtype": "tableResultSubCmd.visualization",
       "tableResultIndex": 0,
       "useConsistentColors": false,
       "version": "CommandV1",
       "width": "auto",
       "workflows": [],
       "xColumns": null,
       "yColumns": null
      }
     },
     "output_type": "display_data"
    }
   ],
   "source": [
    "display(df)"
   ]
  },
  {
   "cell_type": "code",
   "execution_count": 0,
   "metadata": {
    "application/vnd.databricks.v1+cell": {
     "cellMetadata": {
      "byteLimit": 2048000,
      "rowLimit": 10000
     },
     "inputWidgets": {},
     "nuid": "80574fdd-f0bb-4fef-a2fa-44e8b789d0c0",
     "showTitle": false,
     "title": ""
    }
   },
   "outputs": [],
   "source": []
  }
 ],
 "metadata": {
  "application/vnd.databricks.v1+notebook": {
   "dashboards": [
    {
     "elements": [
      {
       "dashboardResultIndex": null,
       "elementNUID": "e50b2252-c763-40e6-af12-ababe9670aa8",
       "elementType": "command",
       "guid": "19d1c60d-91df-439e-9d78-b293ec1d51ab",
       "options": null,
       "position": {
        "height": 6,
        "width": 12,
        "x": 0,
        "y": 0,
        "z": null
       },
       "resultIndex": null
      },
      {
       "dashboardResultIndex": null,
       "elementNUID": "aef1af8d-0017-4c36-b4fd-5bd39a7931e9",
       "elementType": "command",
       "guid": "4b130de3-650f-4f80-8e6e-69c560497351",
       "options": {
        "autoScaleImg": false,
        "scale": 0,
        "showRunButton": true,
        "showTitle": true,
        "titleAlign": "center"
       },
       "position": {
        "height": 6,
        "width": 12,
        "x": 12,
        "y": 0,
        "z": null
       },
       "resultIndex": null
      },
      {
       "dashboardResultIndex": null,
       "elementNUID": "40f552a3-dc64-46af-ab18-a3c8e75a895e",
       "elementType": "command",
       "guid": "a56a813c-1839-46c0-a427-18084c9c59b5",
       "options": {
        "autoScaleImg": false,
        "scale": 0,
        "showRunButton": true,
        "showTitle": true,
        "titleAlign": "center"
       },
       "position": {
        "height": 6,
        "width": 12,
        "x": 12,
        "y": 6,
        "z": null
       },
       "resultIndex": null
      },
      {
       "dashboardResultIndex": null,
       "elementNUID": "1c0c1bbd-cf0e-4ccd-958d-79d3f673a9ab",
       "elementType": "command",
       "guid": "cbaf6e51-b578-49b6-916f-9d3d2bcefcba",
       "options": null,
       "position": {
        "height": 6,
        "width": 12,
        "x": 0,
        "y": 6,
        "z": null
       },
       "resultIndex": null
      },
      {
       "dashboardResultIndex": null,
       "elementNUID": "d9be2ade-f5a9-4165-a3f0-c2c0e137051b",
       "elementType": "command",
       "guid": "e306c5e8-6362-4fd5-ac27-0eb522f93cb8",
       "options": null,
       "position": {
        "height": 6,
        "width": 24,
        "x": 0,
        "y": 12,
        "z": null
       },
       "resultIndex": null
      }
     ],
     "globalVars": {},
     "guid": "",
     "layoutOption": {
      "grid": true,
      "stack": true
     },
     "nuid": "d44426df-bb2b-4f71-a12a-03a8a34d7a7e",
     "origId": 1932534641503547,
     "title": "IIT-Dashboard ",
     "version": "DashboardViewV1",
     "width": 800
    }
   ],
   "language": "python",
   "notebookMetadata": {
    "mostRecentlyExecutedCommandWithImplicitDF": {
     "commandId": 1667608309532335,
     "dataframes": [
      "_sqldf"
     ]
    },
    "pythonIndentUnit": 4
   },
   "notebookName": "DataBricks_Practces_IITs",
   "widgets": {}
  }
 },
 "nbformat": 4,
 "nbformat_minor": 0
}
